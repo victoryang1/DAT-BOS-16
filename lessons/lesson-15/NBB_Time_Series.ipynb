{
 "cells": [
  {
   "cell_type": "code",
   "execution_count": 1,
   "metadata": {
    "collapsed": true
   },
   "outputs": [],
   "source": [
    "from __future__ import print_function\n",
    "%matplotlib inline\n",
    "import pandas as pd\n",
    "import matplotlib.pyplot as plt\n",
    "import numpy as np\n",
    "from scipy import stats\n",
    "import seaborn as sns\n",
    "import statsmodels.api as sm\n",
    "import random\n",
    "import itertools\n",
    "from scipy.stats import norm\n",
    "from datetime import datetime\n",
    "import requests\n",
    "from io import BytesIO\n",
    "plt.style.use('fivethirtyeight')\n",
    "import warnings\n",
    "warnings.filterwarnings('ignore')"
   ]
  },
  {
   "cell_type": "markdown",
   "metadata": {},
   "source": [
    "\n",
    "## Time Series  \n",
    "\n",
    "A [time series](https://en.wikipedia.org/wiki/Time_series) is a sequence of data points, typically consisting of successive measurements made over a time interval. This is a very common type of data as we frequently measure how something varies over time.  usually a time series is an ordered sequence of values of a variable at equally spaced time intervals; but methods exist to deal with irregular sampling.  \n",
    "\n",
    "Examples of time series include:\n",
    "\n",
    "* Stock Market\n",
    "* The change of weather \n",
    "* An electrocardiogram (EKG or ECG), that is, the electrical activity of your heart.\n",
    "* The popularity of a celebirty or politician\n",
    "* Economic Forecasting  \n",
    "\n",
    "![Gold Spot Price](http://nikbearbrown.com/YouTube/MachineLearning/IMG/Gold_Spot_Price_per_Gram_from_Jan_1971_to_Jan_2012.png)   \n",
    "\n",
    "- from https://commons.wikimedia.org/wiki/File:Gold_Spot_Price_per_Gram_from_Jan_1971_to_Jan_2012.svg\n",
    "\n",
    "\n",
    "Univariate (bivariate, multivariate) time series: collection of observations of one (two, several) state variables, that are made in sequential momentsin time.\n",
    "\n",
    "The [sampling](https://en.wikipedia.org/wiki/Sampling_(signal_processing)) frequency (or sample rate) is the number of samples per unit of time. (e.g once per minute).\n",
    "\n",
    "\n",
    "![Signal Sampling](http://nikbearbrown.com/YouTube/MachineLearning/IMG/Signal_Sampling.png)   \n",
    "- from https://commons.wikimedia.org/wiki/File:Signal_Sampling.png  \n",
    "\n",
    "### Nyquist criterion\n",
    "\n",
    "Nyquist criterion, or [Nyquist frequency](https://en.wikipedia.org/wiki/Nyquist_frequency), named after electronic engineer [Harry Nyquist](https://en.wikipedia.org/wiki/Harry_Nyquist), is half of the sampling rate of a discrete signal processing system. In order to correctly determine the frequency spectrum of a signal, the signal must be measured at least twice per period.\n",
    "\n",
    "### Reconstruction \n",
    "\n",
    "Reconstruction is the opposite of sampling, the process by which a sampled signal is converted into a continuous signal.  \n",
    "\n",
    "![Under-Sampling](http://nikbearbrown.com/YouTube/MachineLearning/IMG/Under-Sampling.png)    \n",
    "Under-Sampling  \n",
    "\n",
    "## Components of Time Series\n",
    "\n",
    "The pattern or behavior of the data in a time series can be made up of several components. Theoretically, any time series can be decomposed into:\n",
    "\n",
    "*Trend*   \n",
    "\n",
    "The trend component accounts for the gradual shifting of the time series to relatively higher or lower values over a long period of time.\n",
    "\n",
    "*Cyclical*\n",
    "\n",
    "A regular pattern of sequences of values that go above and below the trend line is a cyclical component.\n",
    "\n",
    "\n",
    "*Seasonal*\n",
    "\n",
    "The seasonal component accounts for regular patterns of variability within certain time periods, such as a year. While seasons could be modeled using cyclical components. Often within-year, within-month, within-week or within-day cycles are treated as “seasonal” behavior.  \n",
    "\n",
    "\n",
    "*Irregular*  \n",
    "\n",
    "The irregular components represent erratic, unsystematic, ‘residual’ fluctuations. That is, noise.   \n",
    "\n",
    "## Assumptions of time series\n",
    "\n",
    "* Observations are roughly equally spaced   \n",
    "* Indices are units of time\n",
    "\n",
    "\n",
    "## Time series trends\n",
    "\n",
    "* Observations are roughly equally spaced   \n",
    "* Indices are units of time\n",
    "*  \n",
    "\n",
    "## Stationary versus Non-stationary time series\n",
    "\n",
    "Non-stationary time series or have means, variances and covariances that change over time. Whereas while stationary time series have up and down flucutions they have means, variances and covariances.  That is, a [stationary process](https://en.wikipedia.org/wiki/Stationary_process) is a stochastic process whose joint probability distribution does not change when shifted in time. \n",
    "\n",
    "For example, we expect financial time series data, to be non-stationary since we would expect a deterministic upward trend in price.\n",
    "\n",
    "A grown adults weight would more likely be stationary time series unless he or she fundenemtally changes their \"state\".  \n",
    "\n",
    "![Stationary comparison](http://nikbearbrown.com/YouTube/MachineLearning/IMG/Stationarycomparison.png)     \n",
    "*Two simulated time series processes, one stationary the other non-stationary.* \n",
    "- from https://commons.wikimedia.org/wiki/File:Stationarycomparison.png   \n",
    "\n",
    "### How to Check Stationarity of a Time Series?\n",
    "\n",
    "The series is assumed to be stationary if it has constant statistical properties over time:\n",
    "\n",
    "* constant mean.   \n",
    "* constant variance.   \n",
    "* an autocovariance that does not depend on time.   \n",
    "\n",
    "\n",
    "## Smoothing Methods of Time Series\n",
    "\n",
    "Smoothing a time series: to eliminate some of short-term fluctuations. Sometimes smoothing is done to remove cyclical or  seasonal fluctuations. (i.e. \"deseasonalize\"\" a time series). Usually smoothing refers to methods for reducing of canceling the effect due to random variation. The simplest smoothing method is just the \"simple\" average of all past data.  Of course, the \"simple\" average or mean of all past observations is only a useful estimate for forecasting when there are no trends. \n",
    "\n",
    "## Time Series Decomposition\n",
    "\n",
    "Time Series Decomposition is a procedure to identify the component factors of a time series. That is, to create a model that expresses the time series variable Y in terms of the components T (trend), C (cycle), S (seasonal) and I (iregular).\n",
    "\n",
    "## Time Series Analysis\n",
    "\n",
    "Time series analysis generates a model that accounts an internal structure (such as autocorrelation, trend or seasonal variation) of a set of data points taken over time. This is very frequently used for forecasting. That is, predicting and future event in time based on a sequential historical sample.  \n",
    "\n",
    "\n",
    "## Autocorrelation\n",
    "\n",
    "[Autocorrelation](https://en.wikipedia.org/wiki/Autocorrelation), also known as serial correlation or cross-autocorrelation, is the cross-correlation of a signal with itself at different points in time. It is the correlation between values of the process at different times. Informally, it is the similarity between observations as a function of the time lag between them. It is a mathematical tool for finding repeating patterns, such as the presence of a periodic signal obscured by noise.  \n",
    "\n",
    "Let X be some repeatable process, and i be some point in time after the start of that process. (i may be an integer for a discrete-time process or a real number for a continuous-time process.) Then $X_i$ is the value (or realization) produced by a given run of the process at time i. Suppose that the process is further known to have defined values for mean μi and variance σi2 for all times i. Then the definition of the autocorrelation between times s and t is\n",
    "\n",
    "$$\n",
    "R(s,t) = \\frac{\\operatorname{E}[(X_t - \\mu_t)(X_s - \\mu_s)]}{\\sigma_t\\sigma_s}\\, ,\n",
    "$$\n",
    "\n",
    "where \"E\" is the expected value operator. Note that this expression is not well-defined for all time series or processes, because the variance may be zero (for a constant process) or infinite (for processes with distribution lacking well-behaved moments, such as certain types of power law).\n",
    "\n",
    "### Correlogram\n",
    "\n",
    "In the analysis of data, a [correlogram](https://en.wikipedia.org/wiki/Correlogram) is an image of correlation statistics. For example, in time series analysis, a correlogram, also known as an autocorrelation plot, is a plot of the sample autocorrelations $r_{h}, r_{h}$, versus $h$ (the time lags).  \n",
    "\n",
    "If cross-correlation is used, the result is called a cross-correlogram. The correlogram is a commonly used tool for checking randomness in a data set. This randomness is ascertained by computing autocorrelations for data values at varying time lags. If random, such autocorrelations should be near zero for any and all time-lag separations. If non-random, then one or more of the autocorrelations will be significantly non-zero.\n",
    "\n",
    "![Correlogram](http://nikbearbrown.com/YouTube/MachineLearning/IMG/Correlogram.png)   \n",
    "\n",
    "[By M. W. Toews - Own work, CC BY 4.0](https://commons.wikimedia.org/w/index.php?curid=2379384)\n",
    "\n",
    "### Partial autocorrelation function\n",
    "\n",
    "The [partial autocorrelation function (PACF)](https://en.wikipedia.org/wiki/Partial_autocorrelation_function) gives the partial correlation of a time series with its own lagged values, controlling for the values of the time series at all shorter lags. It contrasts with the autocorrelation function, which does not control for other lags.  \n",
    "\n",
    "This function plays an important role in data analyses aimed at identifying the extent of the lag in an autoregressive model. The use of this function was introduced as part of the Box–Jenkins approach to time series modelling, where by plotting the partial autocorrelative functions one could determine the appropriate lags p in an AR (p) model or in an extended ARIMA (p,d,q) model.\n",
    "\n",
    "Given a time series $z_t$, the partial autocorrelation of lag $k$, denoted $\\alpha(k)$, is the autocorrelation between $z_t$ and $z_{t+k}$ with the linear dependence of $z_t$ on $z_{t+1}$ through $z_{t+k-1}$ removed; equivalently, it is the autocorrelation between $z_t$ and $z_{t+k}$ that is not accounted for by lags 1 to $k$&nbsp;−&nbsp;1, inclusive.\n",
    "\n",
    " $\\alpha(1) = \\operatorname{Cor}(z_{t+1}, z_t),$\n",
    "\n",
    " $\\alpha(k) = \\operatorname{Cor}(z_{t+k} - P_{t,k}(z_{t+k}),\\, z_t - P_{t,k}(z_t)),\\text{ for }k\\geq 2,$\n",
    "\n",
    "where $P_{t,k}(x)$ denotes the projection of $x$ onto the space spanned by $ x_{t+1}, \\dots, x_{t+k-1}$.\n",
    "\n",
    "There are algorithms for estimating the partial autocorrelation based on the sample autocorrelations. These algorithms derive from the exact theoretical relation between the partial autocorrelation function and the autocorrelation function.\n",
    "\n",
    "Partial autocorrelation plots are a commonly used tool for identifying the order of an autoregressive model.   \n",
    "\n",
    "## Naive & Simple Averaging\n",
    "\n",
    "Naive or \"simple\" averaging is just the mean (or median) of all past data.  Of course, the \"simple\" average or mean of all past observations is only a useful estimate for forecasting when there are no trends. \n",
    "\n",
    "For example, if we have prices are $p_M, p_{M-1},\\dots,p_{M-(n-1)}$ then the formula is\n",
    "\n",
    "$$\n",
    "\\textit{SMA} = { p_M + p_{M-1} + \\cdots + p_{M-(n-1)} \\over n }\n",
    "$$\n",
    "\n",
    "## Moving Averages\n",
    "\n",
    "A moving average (rolling average or running average) is an average that is updated for a window or history of n events. This is sometimes called the arithmetic moving average the most recent n data values. For an an equally weighted average of the sequence of n values $x_1. \\ldots, x_n$ up to the current time:\n",
    "$$\n",
    "\\textit{MA}_n = {{x_1 + \\cdots + x_n} \\over n}\\,.\n",
    "$$\n",
    "\n",
    "### Weighted Moving Averages\n",
    "\n",
    "A weighted moving average places more weight on recent observations.  Sum of the weights needs to equal 1. For example. in technical analysis of financial data, a weighted moving average (WMA) often uses weights that decrease in arithmetical progression. In an n-day WMA the latest day has weight n, the second latest n − 1, etc., down to one.\n",
    "\n",
    "$$\n",
    "\\text{WMA}_{M} = { n p_{M} + (n-1) p_{M-1} + \\cdots + 2 p_{(M-n+2)} + p_{(M-n+1)} \\over n + (n-1) + \\cdots + 2 + 1}\n",
    "$$\n",
    "\n",
    "That is, the denominator is a triangle number equal to $\\frac{n(n+1)}{2}$.\n",
    "\n",
    "There are many other methods for weighting the importance of more recent observations.   \n",
    "\n",
    "![Weighted moving average weights N=15](http://nikbearbrown.com/YouTube/MachineLearning/IMG/Weighted_moving_average_weights_N=15.png)   \n",
    "\"Weighted moving average weights N=15\". Licensed under CC BY-SA 3.0 via Commons   \n",
    "\n",
    "\n",
    "## Exponential moving average\n",
    "\n",
    "Exponential moving average (also called Single Exponential Smoothing) continually revises a forecast in light of more recent experiences.  Averaging (smoothing) past values of a series in a decreasing (exponential) manner.  \n",
    "\n",
    "The EMA for a series Y may be calculated recursively:\n",
    "\n",
    "$$\n",
    "S_1   Y_1 \\quad for  \\quad t > 1, S_{t} = \\alpha \\cdot Y_{t} + (1-\\alpha) \\cdot S_{t-1}\n",
    "$$\n",
    "\n",
    "Where:  \n",
    "\n",
    "* The coefficient $\\alpha$ represents the degree of weighting decrease, a constant smoothing factor between 0 and 1. A higher  $\\alpha$  discounts older observations faster.  \n",
    "* $Y_t$ is the value at a time period t.\n",
    "* $S_t$ is the value of the EMA at any time period t.\n",
    "\n",
    "Since the base values of the recursive intial call is undefined. The priming of values such as $S_1$ may be initialized in a number of different ways, most commonly by setting $S_1$ to $Y_1$, or by setting  $S_1$to an average of the first few observations.   \n",
    "\n",
    "![Exponential moving average weights N=15](http://nikbearbrown.com/YouTube/MachineLearning/IMG/Exponential_moving_average_weights_N=15.png)    \n",
    "\"Exponential moving average weights N=15\". Licensed under CC BY-SA 3.0 via Commons \n",
    "\n",
    "### Double exponential smoothing  \n",
    "\n",
    "Holt-Winters method for exponential smoothing extended Holt’s method to capture seasonality. This is sometimes called \"Double exponential smoothing.\" The Holt-Winters seasonal method comprises the forecast equation and two smoothing equations. e use {$s_t$} to represent the smoothed value for time t, and {$b_t$} is our best estimate of the trend at time t. The output of the algorithm is now written as Ft+m, an estimate of the value of x at time t+m, m>0 based on the raw data up to time t. Double exponential smoothing is given by the formulas\n",
    "\n",
    "$$\n",
    "\\begin{align}\n",
    "s_1& = x_1\\\\\n",
    "b_1& = x_1 - x_0\\\\\n",
    "\\end{align}\n",
    "$$\n",
    "\n",
    "And for t > 1 by\n",
    "\n",
    "$$\n",
    "\\begin{align}\n",
    "s_{t}& = \\alpha x_{t} + (1-\\alpha)(s_{t-1} + b_{t-1})\\\\\n",
    "b_{t}& = \\beta (s_t - s_{t-1}) + (1-\\beta)b_{t-1}\\\\\n",
    "\\end{align}\n",
    "$$\n",
    "\n",
    "where α is the data smoothing factor, 0 < $\\alpha$ < 1, and β is the trend smoothing factor, 0 < $\\beta$ < 1. \n",
    "\n",
    "### Triple exponential smoothing\n",
    "\n",
    "Triple exponential smoothing account seasonal changes as well as trends using three smoothing equations — one for the level, one for trend, and one for the seasonal component denoted, with smoothing parameters $\\alpha, \\beta,$ and $\\gamma$. We use a variable $m$ to denote the period of the seasonality, i.e., the number of seasons in a year. For example, for quarterly data m=4, and for monthly data m=12.\n",
    "\n",
    "There are two variations to this method that differ in the nature of the seasonal component. The additive method is preferred when the seasonal variations are roughly constant through the series, while the multiplicative method is preferred when the seasonal variations are changing proportional to the level of the series. \n",
    "\n",
    "\n",
    "## Linear Time-Series Model\n",
    "\n",
    "Using regression we can model and forecast the trend in time series data by including the time as a predictor variable. Time series processes are often described by multiple linear regression (MLR) models of the form:\n",
    "\n",
    "$$y_t = X_t \\beta + e_t,$$\n",
    "\n",
    "Note that the above equation differs from our usual regression in that the predictor variables are a function of time, $t$. As oppossed to the more familair form below:  \n",
    "\n",
    "$$ Y = \\beta X + e $$\n",
    "\n",
    "where  $y_t$ is an observed response and  $X_t$ includes columns for contemporaneous values of observable predictors. The partial regression coefficients in  $\\beta$ represent the marginal contributions of individual predictors to the variation in  $y_t$ when all of the other predictors are held fixed. A common feature of time series data is a trend. Regressing non-stationary time series can lead to spurious regressions.  \n",
    "\n",
    "The error term $\\varepsilon_i$ still has the following assumptions:\n",
    "\n",
    "* have mean zero; otherwise the forecasts will be systematically biased.  \n",
    "* statistical independence of the errors (in particular, no correlation between consecutive errors in the case of time series data).  \n",
    "* homoscedasticity (constant variance) of the errors.   \n",
    "* normality of the error distribution.    \n",
    "\n"
   ]
  },
  {
   "cell_type": "markdown",
   "metadata": {},
   "source": [
    "\n",
    "## Autoregressive integrated moving average (ARIMA)\n",
    "\n",
    "An autoregressive integrated moving average (ARIMA or ARMA) model combines an autoregressive component with a moving average component in to a single model.   \n",
    "\n",
    "An [autoregressive integrated moving average (ARIMA or ARMA)](https://en.wikipedia.org/wiki/Autoregressive_integrated_moving_average) model is a generalization of an autoregressive moving average (ARMA) model. These models are fitted to time series data either to better understand the data or to predict future points in the series (forecasting). They are applied in some cases where data show evidence of non-stationarity, where an initial differencing step (corresponding to the \"integrated\" part of the model) can be applied to reduce the non-stationarity.\n",
    "\n",
    "Non-seasonal ARIMA models are generally denoted $ARIMA(p, d, q)$ where parameters $p, d,  \\quad and \\quad q$ are non-negative integers, $p$ is the order of the Autoregressive model, $d$ is the degree of differencing, and $q$ is the order of the Moving-average model.  The he number of differences $d$ is determined using repeated statistical tests. The values of $p$ and $q$ are then chosen by minimizing the AIC after differencing the data $d$ times. \n",
    "\n",
    "* AR: Autoregression. A dependent relationship between an observation and some number of lagged observations.    \n",
    "* I: Integrated. The use of differencing of raw observations in order to make the time series stationary.  \n",
    "* MA: Moving Average. A model that uses the dependency between an observation and a residual error from a moving average model applied to lagged observations.   \n",
    "\n",
    "A non-seasonal ARIMA model can be (almost) completely summarized by three numbers:  \n",
    "\n",
    "* $p$ = the number of autoregressive terms.  he number of lag observations included in the model.     \n",
    "* $d$ = the number of nonseasonal differences. The number of times that the raw observations are differenced, also called the degree of differencing.     \n",
    "* $q$ = the number of moving-average terms. The size of the moving average window, also called the order of moving average.   \n",
    "\n",
    "When a value of 0 is used as a parameter, it means that parameter is not used the model. \n",
    "\n",
    "The ARIMA model uses an iterative three-stage modeling approach:\n",
    "\n",
    "Model identification and model selection: making sure that the variables are stationary, identifying seasonality in the dependent series (seasonally differencing it if necessary), and using plots of the autocorrelation and partial autocorrelation functions of the dependent time series to decide which (if any) autoregressive or moving average component should be used in the model.   \n",
    "\n",
    "Parameter estimation using computation algorithms to arrive at coefficients that best fit the selected ARIMA model. The most common methods use maximum likelihood estimation or non-linear least-squares estimation.   \n",
    "\n",
    "Model checking by testing whether the estimated model conforms to the specifications of a stationary univariate process. In particular, the residuals should be independent of each other and constant in mean and variance over time. (Plotting the mean and variance of residuals over time and performing a Ljung-Box test or plotting autocorrelation and partial autocorrelation of the residuals are helpful to identify misspecification.) If the estimation is inadequate, we have to return to step one and attempt to build a better model.   \n",
    "\n",
    "\n",
    "## Moving average (MA) versus autoregressive integrated moving average (AR)\n",
    " \n",
    "AR(p,d,q)\n",
    " \n",
    "* $p$ = the number of autoregressive terms   \n",
    "* $d$ = the number of nonseasonal differences   \n",
    "* $q$ = the number of moving-average terms   \n",
    "\n",
    "\n",
    "### AR(0,0,1) = MA(1) = first-order moving average model\n",
    "\n",
    "ARIMA(0,0,1) is MA(1)\n",
    "\n",
    "![AR(1) vs MA(1) vs AR(2)](http://nikbearbrown.com/YouTube/MachineLearning/IMG/AR1_MA1_AR2.jpg)\n",
    "\n",
    "\n",
    "Image from [An introduction to Moving Average Order One processes](https://youtu.be/lUhtcP2SUsg)  \n",
    "\n",
    "\n",
    "### AR(1,0,0) = first-order autoregressive model\n",
    "\n",
    "If the series is stationary and autocorrelated, perhaps it can be predicted as a multiple of its own previous value, plus a constant.\n",
    "\n",
    "\n",
    "### AR(0,1,0) = random walk \n",
    "\n",
    "If the series is not stationary, the simplest possible model for it is a random walk model.\n",
    "\n",
    "\n",
    "\n",
    "### AR(1,1,0) = differenced first-order autoregressive model \n",
    "\n",
    "If the errors of a random walk model are autocorrelated, perhaps the problem can be fixed by adding one lag of the dependent variable to the prediction equation.\n",
    "\n",
    " \n",
    "### AR(0,1,1) without constant = simple exponential smoothing \n",
    "\n",
    "If the errors of a random walk model are autocorrelated, perhaps the problem can be fixed by the simple exponential smoothing model.\n",
    "\n",
    "\n",
    "### AR(0,2,1) or (0,2,2) without constant = linear exponential smoothing \n",
    "\n",
    "Linear exponential smoothing models are ARIMA models which use two nonseasonal differences in conjunction with MA terms. \n"
   ]
  },
  {
   "cell_type": "markdown",
   "metadata": {},
   "source": [
    "\n",
    "## Trend Analysis\n",
    "\n",
    "Trend Analysis\n",
    "\n",
    "\n",
    "Trend Analysis is the practice of collecting information and attempting to spot a pattern, or trend, in the information. Typically this involves analyzing the variance for a change over time. The null hypothesis: $H_0$ is that there is no trend. Many techniques can be used to identify trends, we'll use an ARMA model again. \n",
    "\n",
    "##  Dickey-Fuller Test\n",
    "\n",
    "The Dickey-Fuller Test is a test for the stationarity of a time series.   \n",
    "\n",
    "The [Dickey-Fuller test](https://en.wikipedia.org/wiki/Dickey%E2%80%93Fuller_test) tests whether a unit root is present in an autoregressive model.  simple AR(1) model is\n",
    "$$\n",
    "y_{t}=\\rho y_{t-1}+u_{t}\\,\n",
    "$$\n",
    "\n",
    "where $y_{t}$ is the variable of interest, $t$ is the time index, $\\rho$ is a coefficient, and $u_{t}$ is the error term. A unit root is present if $\\rho = 1$. The model would be non-stationary in this case.\n",
    "\n",
    "The regression model can be written as\n",
    "$$\n",
    " \\nabla y_{t}=(\\rho-1)y_{t-1}+u_{t}=\\delta y_{t-1}+ u_{t}\\,\n",
    "$$ \n",
    "where $\\nabla$ is the first difference operator.\n",
    "\n",
    "The Dickey-Fuller Test uses a specific distribution simply known as the Dickey-Fuller table to assess whether $\\nabla y_{t}$ is signficant. "
   ]
  },
  {
   "cell_type": "markdown",
   "metadata": {},
   "source": [
    "\n",
    "## Seasonal Models\n",
    "\n",
    "Seasonal Models\n",
    "\n",
    "When there are patterns that repeat over known, fixed periods of time (i.e. day, week, month, quarter, year, etc.) within the data set it is considered to be seasonal variation. One has a model for the periodic fluctuations based on knowledge of the domain.   \n",
    "\n",
    "The seasonal ARIMA model incorporates both non-seasonal and seasonal factors in a multiplicative model.  In a seasonal ARIMA model, seasonal parameters predict xt using data values and errors at times with lags that are multiples of S (the span of the seasonality).  Before we model for a given data set, one must have an initial guess about the data generation process, that is the span of the seasonality (i.e.day, week, month, quarter, year, etc.)  \n",
    "\n",
    "\n",
    "The seasonal part of an ARIMA model has the same structure as the non-seasonal part: an AR factor, an MA factor, and/or an order of differencing. In the seasonal part of the model, all of these factors operate across multiples of lag s (the number of periods in a season).\n",
    "A seasonal ARIMA model is classified as an ARIMA(p,d,q)x(P,D,Q) model, where P=number of seasonal autoregressive (SAR) terms, D=number of seasonal differences, Q=number of seasonal moving average (SMA) terms.\n"
   ]
  },
  {
   "cell_type": "markdown",
   "metadata": {},
   "source": [
    "\n",
    "## Spectral Analysis\n",
    "\n",
    "Spectral analysis or Spectrum analysis is based on the analysis of frequencies rather than fluctuations of numbers. In statistical signal processing, the goal of spectral density estimation (SDE) is to estimate the spectral density (also known as the power spectral density) of a random signal from a sequence of time samples of the signal. Intuitively speaking, the spectral density characterizes the frequency content of the signal. One purpose of estimating the spectral density is to detect any periodicities in the data, by observing peaks at the frequencies corresponding to these periodicities.\n",
    "\n",
    "Statistics and signal processing, an algorithm that estimates the strength of different frequency components (the power spectrum) of a time-domain signal. This may also be called frequency domain analysis. There are many approaches to spectral density. Below is a partial list of parametric and non-parametric spectral density estimation techniques.\n",
    " \n",
    "Non-parametric spectral density estimation techniques:   \n",
    "\n",
    "* Periodogram, the basic modulus-squared of the discrete Fourier transform   \n",
    "* Bartlett's method is the average of the periodograms taken of multiple segments of the signal to reduce variance of the spectral density estimate  \n",
    "Welch's method a windowed version of Bartlett's method that uses overlapping segments   \n",
    "* Multitaper is a periodogram-based method that uses multiple tapers, or windows, to form independent estimates of the spectral density to reduce variance of the spectral density estimate    \n",
    "* Least-squares spectral analysis, based on least squares fitting to known frequencies    \n",
    "* Non-uniform discrete Fourier transform is used when the signal samples are unevenly spaced in time   \n",
    "* Singular spectrum analysis is a nonparametric method that uses a singular value decomposition of the covariance matrix to estimate the spectral density\n",
    "Short-time Fourier transform   \n",
    "\n",
    "Parametric spectral density estimation techniques:      \n",
    "\n",
    "* Autoregressive model (AR) estimation, which assumes that the nth sample is correlated with the previous p samples.    \n",
    "* Moving-average model (MA) estimation, which assumes that the nth sample is correlated with noise terms in the previous p samples.    \n",
    "* Autoregressive moving average (ARMA) estimation, which generalizes the AR and MA models.   \n",
    "* Maximum entropy spectral estimation is an all-poles method useful for SDE when singular spectral features, such as sharp peaks, are expected.   \n",
    "\n",
    "\n",
    "## Periodogram\n",
    "\n",
    "Given a signal that is sampled at N different times, with the samples uniformly spaced by $\\Delta t$, giving values $x_n$. Since the power spectral density of a continuous function defined on the entire real line is the modulus squared of its Fourier transform, the simplest technique to estimate the spectrum is the periodogram, given by the modulus squared of the discrete Fourier transform,    \n",
    "\n",
    "$$\n",
    "S(f)=\\frac{\\Delta t}{N} \\left| \\sum_{n=0}^{N-1} x_n e^{-i2\\pi n f} \\right|^2, \\qquad -\\frac{1}{2\\Delta t} < f \\le \\frac{1}{2\\Delta t}\n",
    "$$\n",
    "\n",
    "where $1/(2\\Delta t)$ is the Nyquist frequency. The name \"periodogram\" was coined by Arthur Schuster in 1898. Despite the simplicity of the periodogram, the method suffers from severe deficiencies. It is an inconsistent estimator because it does not converge to the true spectral density as $N\\rightarrow\\infty$. It exhibits very high spectral leakage although this can be reduced by multiplying $x_n$ by a window function. In the presence of additive noise, the estimate has a positive bias.\n",
    "\n",
    "\n",
    "## Fourier analysis\n",
    "\n",
    "[Fourier analysis](https://en.wikipedia.org/wiki/Fourier_analysis) is the study of the way general functions may be represented or approximated by sums of simpler trigonometric functions. Fourier analysis grew from the study of Fourier series. A [Fourier series](https://en.wikipedia.org/wiki/Fourier_series) is a way to represent a (wave-like) function as the sum of simple sine waves\n",
    "\n",
    "If, s(x) denotes a function of the real variable x, and s is integrable on an interval [x0, x0 + P], for real numbers x0 and P. We will attempt to represent  s  in that interval as an infinite sum, or series, of harmonically related sinusoidal functions. Outside the interval, the series is periodic with period P (frequency 1/P). It follows that if s also has that property, the approximation is valid on the entire real line. We can begin with a finite summation (or partial sum):\n",
    "\n",
    "$$\n",
    "s_N(x) = \\frac{A_0}{2} + \\sum_{n=1}^N A_n\\cdot \\sin(\\tfrac{2\\pi nx}{P}+\\phi_n), \\quad \\scriptstyle \\text{for integer}\\ N\\ \\ge\\ 1.\n",
    "$$\n",
    "\n",
    "$s_N(x)$  is a periodic function with period P.  Using the identities:\n",
    "\n",
    "$$\n",
    "\\sin(\\tfrac{2\\pi nx}{P}+\\phi_n) \\equiv \\sin(\\phi_n) \\cos(\\tfrac{2\\pi nx}{P}) + \\cos(\\phi_n) \\sin(\\tfrac{2\\pi nx}{P})\n",
    "$$\n",
    "$$\n",
    "\\sin(\\tfrac{2\\pi nx}{P}+\\phi_n) \\equiv \\text{Re}\\left\\{\\frac{1}{i}\\cdot e^{i \\left(\\tfrac{2\\pi nx}{P}+\\phi_n\\right)}\\right\\} = \\frac{1}{2i}\\cdot e^{i \\left(\\tfrac{2\\pi nx}{P}+\\phi_n\\right)} +\\left(\\frac{1}{2i}\\cdot e^{i \\left(\\tfrac{2\\pi nx}{P}+\\phi_n\\right)}\\right)^*,\n",
    "$$\n",
    "\n",
    "Function s(x) (in red) is a sum of six sine functions of different amplitudes and harmonically related frequencies. Their summation is called a Fourier series. The Fourier transform, S(f) (in blue), which depicts amplitude vs frequency, reveals the 6 frequencies and their amplitudes.\n"
   ]
  },
  {
   "cell_type": "markdown",
   "metadata": {},
   "source": [
    "## AIC, BIC\n",
    "\n",
    "Statistical tests are used to assess the fit of a regression model. The most common being the *Akaike information criterion (AIC)*, the *Bayesian information criterion (BIC)*\n",
    "\n",
    "\n",
    "_Akaike information criterion_\n",
    "\n",
    "The Akaike information criterion (AIC) is a measure of the relative quality of statistical models for a given set of data. Given a collection of models for the data, AIC estimates the quality of each model, relative to each of the other models. Hence, AIC provides a means for model selection.  \n",
    "\n",
    "AIC is founded on information theory: it offers a relative estimate of the information lost when a given model is used to represent the process that generates the data. In doing so, it deals with the trade-off between the goodness of fit of the model and the complexity of the model.\n",
    "\n",
    "- from [Akaike information criterion - Wikipedia](https://en.wikipedia.org/wiki/Akaike_information_criterion)\n",
    "\n",
    "\n",
    "_Bayesian information criterion (BIC)_\n",
    "\n",
    "In statistics, the Bayesian information criterion (BIC) or Schwarz criterion (also SBC, SBIC) is a criterion for model selection among a finite set of models; the model with the lowest BIC is preferred. It is based, in part, on the likelihood function and it is closely related to the Akaike information criterion (AIC).  \n",
    "\n",
    "When fitting models, it is possible to increase the likelihood by adding parameters, but doing so may result in overfitting. Both BIC and AIC resolve this problem by introducing a penalty term for the number of parameters in the model; the penalty term is larger in BIC than in AIC. The BIC was developed by Gideon E. Schwarz and published in a 1978 paper, where he gave a Bayesian argument for adopting it.  \n",
    "\n",
    "- from [Bayesian information criterion (BIC) - Wikipedia](https://en.wikipedia.org/wiki/Bayesian_information_criterion) \n",
    "\n",
    "\n",
    "Test          | \"Good\"\n",
    "------------- | -------------\n",
    "$R^2$         | High\n",
    "AIC           | Low\n",
    "BIC           | Low\n",
    "\n",
    "\n"
   ]
  },
  {
   "cell_type": "markdown",
   "metadata": {},
   "source": [
    "## Time Series in python\n",
    "\n",
    "_statsmodels_ has a dataset called \"Atmospheric CO2 from Continuous Air Samples at Mauna Loa Observatory, Hawaii, U.S.A.,\" which collected CO2 samples from March 1958 to December 2001. \n",
    "\n",
    "The following code is adapted from [Time Series Forecasting with ARIMA in Python 3](https://www.digitalocean.com/community/tutorials/a-guide-to-time-series-forecasting-with-arima-in-python-3)\n",
    "\n",
    "The AIC measures how well a model fits the data while taking into account the overall complexity of the model. A model that fits the data very well while using lots of features will be assigned a larger AIC score than a model that uses fewer features to achieve the same goodness-of-fit. Therefore, we are interested in finding the model that yields the lowest AIC value.\n"
   ]
  },
  {
   "cell_type": "code",
   "execution_count": 2,
   "metadata": {
    "collapsed": false
   },
   "outputs": [
    {
     "data": {
      "text/html": [
       "<div>\n",
       "<table border=\"1\" class=\"dataframe\">\n",
       "  <thead>\n",
       "    <tr style=\"text-align: right;\">\n",
       "      <th></th>\n",
       "      <th>co2</th>\n",
       "    </tr>\n",
       "  </thead>\n",
       "  <tbody>\n",
       "    <tr>\n",
       "      <th>1958-03-29</th>\n",
       "      <td>316.1</td>\n",
       "    </tr>\n",
       "    <tr>\n",
       "      <th>1958-04-05</th>\n",
       "      <td>317.3</td>\n",
       "    </tr>\n",
       "    <tr>\n",
       "      <th>1958-04-12</th>\n",
       "      <td>317.6</td>\n",
       "    </tr>\n",
       "    <tr>\n",
       "      <th>1958-04-19</th>\n",
       "      <td>317.5</td>\n",
       "    </tr>\n",
       "    <tr>\n",
       "      <th>1958-04-26</th>\n",
       "      <td>316.4</td>\n",
       "    </tr>\n",
       "  </tbody>\n",
       "</table>\n",
       "</div>"
      ],
      "text/plain": [
       "              co2\n",
       "1958-03-29  316.1\n",
       "1958-04-05  317.3\n",
       "1958-04-12  317.6\n",
       "1958-04-19  317.5\n",
       "1958-04-26  316.4"
      ]
     },
     "execution_count": 2,
     "metadata": {},
     "output_type": "execute_result"
    }
   ],
   "source": [
    "co2_data = sm.datasets.co2.load_pandas().data\n",
    "co2_data.head()"
   ]
  },
  {
   "cell_type": "code",
   "execution_count": 3,
   "metadata": {
    "collapsed": false
   },
   "outputs": [
    {
     "data": {
      "text/html": [
       "<div>\n",
       "<table border=\"1\" class=\"dataframe\">\n",
       "  <thead>\n",
       "    <tr style=\"text-align: right;\">\n",
       "      <th></th>\n",
       "      <th>co2</th>\n",
       "    </tr>\n",
       "  </thead>\n",
       "  <tbody>\n",
       "    <tr>\n",
       "      <th>1958-03-29</th>\n",
       "      <td>316.1</td>\n",
       "    </tr>\n",
       "    <tr>\n",
       "      <th>1958-04-05</th>\n",
       "      <td>317.3</td>\n",
       "    </tr>\n",
       "    <tr>\n",
       "      <th>1958-04-12</th>\n",
       "      <td>317.6</td>\n",
       "    </tr>\n",
       "    <tr>\n",
       "      <th>1958-04-19</th>\n",
       "      <td>317.5</td>\n",
       "    </tr>\n",
       "    <tr>\n",
       "      <th>1958-04-26</th>\n",
       "      <td>316.4</td>\n",
       "    </tr>\n",
       "  </tbody>\n",
       "</table>\n",
       "</div>"
      ],
      "text/plain": [
       "              co2\n",
       "1958-03-29  316.1\n",
       "1958-04-05  317.3\n",
       "1958-04-12  317.6\n",
       "1958-04-19  317.5\n",
       "1958-04-26  316.4"
      ]
     },
     "execution_count": 3,
     "metadata": {},
     "output_type": "execute_result"
    }
   ],
   "source": [
    "co2_data = co2_data.fillna(co2_data.bfill())\n",
    "co2_data.head()"
   ]
  },
  {
   "cell_type": "code",
   "execution_count": 4,
   "metadata": {
    "collapsed": false,
    "scrolled": true
   },
   "outputs": [
    {
     "data": {
      "text/plain": [
       "<matplotlib.axes._subplots.AxesSubplot at 0x111747d90>"
      ]
     },
     "execution_count": 4,
     "metadata": {},
     "output_type": "execute_result"
    },
    {
     "data": {
      "image/png": "[encoded data removed]",
      "text/plain": [
       "<matplotlib.figure.Figure at 0x106a10990>"
      ]
     },
     "metadata": {},
     "output_type": "display_data"
    }
   ],
   "source": [
    "co2_data.plot()"
   ]
  },
  {
   "cell_type": "code",
   "execution_count": 5,
   "metadata": {
    "collapsed": false
   },
   "outputs": [
    {
     "data": {
      "text/plain": [
       "<matplotlib.axes._subplots.AxesSubplot at 0x106a10c50>"
      ]
     },
     "execution_count": 5,
     "metadata": {},
     "output_type": "execute_result"
    },
    {
     "data": {
      "image/png": "[encoded data removed]",
      "text/plain": [
       "<matplotlib.figure.Figure at 0x111c32050>"
      ]
     },
     "metadata": {},
     "output_type": "display_data"
    }
   ],
   "source": [
    "from pandas.tools.plotting import autocorrelation_plot\n",
    "\n",
    "autocorrelation_plot(co2_data['co2'])"
   ]
  },
  {
   "cell_type": "code",
   "execution_count": 6,
   "metadata": {
    "collapsed": false
   },
   "outputs": [
    {
     "data": {
      "image/png": "[encoded data removed]",
      "text/plain": [
       "<matplotlib.figure.Figure at 0x111e36b50>"
      ]
     },
     "execution_count": 6,
     "metadata": {},
     "output_type": "execute_result"
    },
    {
     "data": {
      "image/png": "[encoded data removed]",
      "text/plain": [
       "<matplotlib.figure.Figure at 0x111e36b50>"
      ]
     },
     "metadata": {},
     "output_type": "display_data"
    }
   ],
   "source": [
    "from statsmodels.graphics.tsaplots import plot_acf\n",
    "plot_acf(co2_data['co2'], lags=52)"
   ]
  },
  {
   "cell_type": "code",
   "execution_count": 7,
   "metadata": {
    "collapsed": false
   },
   "outputs": [
    {
     "data": {
      "image/png": "[encoded data removed]",
      "text/plain": [
       "<matplotlib.figure.Figure at 0x111f4cb50>"
      ]
     },
     "execution_count": 7,
     "metadata": {},
     "output_type": "execute_result"
    },
    {
     "data": {
      "image/png": "[encoded data removed]",
      "text/plain": [
       "<matplotlib.figure.Figure at 0x111f4cb50>"
      ]
     },
     "metadata": {},
     "output_type": "display_data"
    }
   ],
   "source": [
    "plot_acf(co2_data['co2'], lags=7)"
   ]
  },
  {
   "cell_type": "code",
   "execution_count": 8,
   "metadata": {
    "collapsed": false,
    "scrolled": true
   },
   "outputs": [
    {
     "data": {
      "text/plain": [
       "1958-03-31    316.100\n",
       "1958-04-30    317.200\n",
       "1958-05-31    317.120\n",
       "1958-06-30    315.800\n",
       "1958-07-31    315.625\n",
       "Freq: M, Name: co2, dtype: float64"
      ]
     },
     "execution_count": 8,
     "metadata": {},
     "output_type": "execute_result"
    }
   ],
   "source": [
    "co2_data_month = co2_data['co2'].resample('M').mean()\n",
    "# The 'M' indicates we want to resample by month. At the bottom of this post is a summary of different time frames.\n",
    "# mean() is used to indicate we want to use the mean for the resample.\n",
    "# The level on which to roll-up to, 'D' for day, 'W' for week, 'M' for month, 'A' for year\n",
    "# What aggregation to perform: 'mean', 'median', 'sum', etc.\n",
    "co2_data_month.head()"
   ]
  },
  {
   "cell_type": "code",
   "execution_count": 9,
   "metadata": {
    "collapsed": false
   },
   "outputs": [
    {
     "data": {
      "text/plain": [
       "<matplotlib.axes._subplots.AxesSubplot at 0x11215c490>"
      ]
     },
     "execution_count": 9,
     "metadata": {},
     "output_type": "execute_result"
    },
    {
     "data": {
      "image/png": "[encoded data removed]",
      "text/plain": [
       "<matplotlib.figure.Figure at 0x11218fdd0>"
      ]
     },
     "metadata": {},
     "output_type": "display_data"
    }
   ],
   "source": [
    "co2_data_month.plot()"
   ]
  },
  {
   "cell_type": "code",
   "execution_count": 10,
   "metadata": {
    "collapsed": false
   },
   "outputs": [
    {
     "data": {
      "text/plain": [
       "1958-03-30    316.1\n",
       "1958-04-06    317.3\n",
       "1958-04-13    317.6\n",
       "1958-04-20    317.5\n",
       "1958-04-27    316.4\n",
       "Freq: W-SUN, Name: co2, dtype: float64"
      ]
     },
     "execution_count": 10,
     "metadata": {},
     "output_type": "execute_result"
    }
   ],
   "source": [
    "co2_data_week = co2_data['co2'].resample('W').mean()\n",
    "# The 'W' indicates we want to resample by week. At the bottom of this post is a summary of different time frames.\n",
    "# mean() is used to indicate we want to use the mean for the resample.\n",
    "co2_data_week.head()"
   ]
  },
  {
   "cell_type": "code",
   "execution_count": 11,
   "metadata": {
    "collapsed": false
   },
   "outputs": [
    {
     "data": {
      "text/plain": [
       "2001-12-02    370.3\n",
       "2001-12-09    370.8\n",
       "2001-12-16    371.2\n",
       "2001-12-23    371.3\n",
       "2001-12-30    371.5\n",
       "Freq: W-SUN, Name: co2, dtype: float64"
      ]
     },
     "execution_count": 11,
     "metadata": {},
     "output_type": "execute_result"
    }
   ],
   "source": [
    "co2_data_week.tail()"
   ]
  },
  {
   "cell_type": "code",
   "execution_count": 12,
   "metadata": {
    "collapsed": false
   },
   "outputs": [
    {
     "data": {
      "text/plain": [
       "<matplotlib.axes._subplots.AxesSubplot at 0x1123adbd0>"
      ]
     },
     "execution_count": 12,
     "metadata": {},
     "output_type": "execute_result"
    },
    {
     "data": {
      "image/png": "[encoded data removed]",
      "text/plain": [
       "<matplotlib.figure.Figure at 0x1123e02d0>"
      ]
     },
     "metadata": {},
     "output_type": "display_data"
    }
   ],
   "source": [
    "co2_data_week.plot()"
   ]
  },
  {
   "cell_type": "code",
   "execution_count": 13,
   "metadata": {
    "collapsed": false,
    "scrolled": true
   },
   "outputs": [
    {
     "name": "stdout",
     "output_type": "stream",
     "text": [
      "Examples of parameter combinations for Seasonal ARIMA...\n",
      "SARIMAX: (0, 0, 1) x (0, 0, 1, 12)\n",
      "SARIMAX: (0, 0, 1) x (0, 1, 0, 12)\n",
      "SARIMAX: (0, 1, 0) x (0, 1, 1, 12)\n",
      "SARIMAX: (0, 1, 0) x (1, 0, 0, 12)\n"
     ]
    }
   ],
   "source": [
    "# Define the p, d and q parameters to take any value between 0 and 2\n",
    "p = d = q = range(0, 2)\n",
    "\n",
    "# Generate all different combinations of p, q and q triplets\n",
    "pdq = list(itertools.product(p, d, q))\n",
    "\n",
    "# Generate all different combinations of seasonal p, q and q triplets\n",
    "seasonal_pdq = [(x[0], x[1], x[2], 12) for x in list(itertools.product(p, d, q))]\n",
    "\n",
    "print('Examples of parameter combinations for Seasonal ARIMA...')\n",
    "print('SARIMAX: {} x {}'.format(pdq[1], seasonal_pdq[1]))\n",
    "print('SARIMAX: {} x {}'.format(pdq[1], seasonal_pdq[2]))\n",
    "print('SARIMAX: {} x {}'.format(pdq[2], seasonal_pdq[3]))\n",
    "print('SARIMAX: {} x {}'.format(pdq[2], seasonal_pdq[4]))"
   ]
  },
  {
   "cell_type": "code",
   "execution_count": 14,
   "metadata": {
    "collapsed": false
   },
   "outputs": [
    {
     "name": "stdout",
     "output_type": "stream",
     "text": [
      "ARIMA(0, 0, 0) - AIC:19453.8616665\n"
     ]
    }
   ],
   "source": [
    "mod = sm.tsa.ARIMA(co2_data_week, order=pdq[0])\n",
    "results = mod.fit()\n",
    "print('ARIMA{} - AIC:{}'.format(pdq[0], results.aic))"
   ]
  },
  {
   "cell_type": "code",
   "execution_count": 15,
   "metadata": {
    "collapsed": false
   },
   "outputs": [
    {
     "name": "stdout",
     "output_type": "stream",
     "text": [
      "Trying ARIMA(0, 0, 0)\n",
      "ARIMA(0, 0, 0) - AIC:19453.8616665\n",
      "Trying ARIMA(0, 0, 1)\n",
      "ARIMA(0, 0, 1) - AIC:16376.2917988\n",
      "Trying ARIMA(0, 1, 0)\n",
      "ARIMA(0, 1, 0) - AIC:3279.91052529\n",
      "Trying ARIMA(0, 1, 1)\n",
      "ARIMA(0, 1, 1) - AIC:3270.36367053\n",
      "Trying ARIMA(1, 0, 0)\n",
      "ARIMA(1, 0, 0) - AIC:3296.53515358\n",
      "Trying ARIMA(1, 0, 1)\n",
      "ARIMA(1, 0, 1) - AIC:3286.34798002\n",
      "Trying ARIMA(1, 1, 0)\n",
      "ARIMA(1, 1, 0) - AIC:3267.02822769\n",
      "Trying ARIMA(1, 1, 1)\n",
      "ARIMA(1, 1, 1) - AIC:3080.47646525\n"
     ]
    }
   ],
   "source": [
    "for param in pdq:\n",
    "    print('Trying ARIMA{}'.format(param))       \n",
    "    try:\n",
    "        mod = sm.tsa.ARIMA(co2_data_week,\n",
    "                                            order=param)\n",
    "\n",
    "        results = mod.fit()\n",
    "        print('ARIMA{} - AIC:{}'.format(param, results.aic))\n",
    "    except:\n",
    "        continue"
   ]
  },
  {
   "cell_type": "markdown",
   "metadata": {},
   "source": [
    "#### Development version of statsmodels\n",
    "\n",
    "Note:  To run _sm.tsa.statespace.SARIMAX_ you may need to install the development version of statsmodels\n",
    "\n",
    "pip install git+https://github.com/statsmodels/statsmodels.git\n"
   ]
  },
  {
   "cell_type": "code",
   "execution_count": 16,
   "metadata": {
    "collapsed": false
   },
   "outputs": [
    {
     "ename": "NameError",
     "evalue": "name 'param_seasonal' is not defined",
     "output_type": "error",
     "traceback": [
      "\u001b[0;31m---------------------------------------------------------------------------\u001b[0m",
      "\u001b[0;31mNameError\u001b[0m                                 Traceback (most recent call last)",
      "\u001b[0;32m<ipython-input-16-69233f28abfd>\u001b[0m in \u001b[0;36m<module>\u001b[0;34m()\u001b[0m\n\u001b[1;32m      6\u001b[0m \u001b[0mresults\u001b[0m \u001b[0;34m=\u001b[0m \u001b[0mmod\u001b[0m\u001b[0;34m.\u001b[0m\u001b[0mfit\u001b[0m\u001b[0;34m(\u001b[0m\u001b[0;34m)\u001b[0m\u001b[0;34m\u001b[0m\u001b[0m\n\u001b[1;32m      7\u001b[0m \u001b[0;34m\u001b[0m\u001b[0m\n\u001b[0;32m----> 8\u001b[0;31m \u001b[0;32mprint\u001b[0m\u001b[0;34m(\u001b[0m\u001b[0;34m'ARIMA{}x{} 12 - AIC:{}'\u001b[0m\u001b[0;34m.\u001b[0m\u001b[0mformat\u001b[0m\u001b[0;34m(\u001b[0m\u001b[0mparam\u001b[0m\u001b[0;34m,\u001b[0m \u001b[0mparam_seasonal\u001b[0m\u001b[0;34m,\u001b[0m \u001b[0mresults\u001b[0m\u001b[0;34m.\u001b[0m\u001b[0maic\u001b[0m\u001b[0;34m)\u001b[0m\u001b[0;34m)\u001b[0m\u001b[0;34m\u001b[0m\u001b[0m\n\u001b[0m",
      "\u001b[0;31mNameError\u001b[0m: name 'param_seasonal' is not defined"
     ]
    }
   ],
   "source": [
    "mod = sm.tsa.statespace.SARIMAX(co2_data_week,\n",
    "                                            order=pdq[0],\n",
    "                                            seasonal_order=seasonal_pdq[0],\n",
    "                                            enforce_stationarity=False,\n",
    "                                            enforce_invertibility=False)\n",
    "results = mod.fit()\n",
    "\n",
    "print('ARIMA{}x{} 12 - AIC:{}'.format(param, param_seasonal, results.aic))\n"
   ]
  },
  {
   "cell_type": "code",
   "execution_count": null,
   "metadata": {
    "collapsed": false
   },
   "outputs": [],
   "source": [
    "for param in pdq:\n",
    "    for param_seasonal in seasonal_pdq:\n",
    "        print('Trying ARIMA{}x{} 12'.format(param, param_seasonal))       \n",
    "        try:\n",
    "            mod = sm.tsa.statespace.SARIMAX(co2_data_week,\n",
    "                                            order=param,\n",
    "                                            seasonal_order=param_seasonal,\n",
    "                                            enforce_stationarity=False,\n",
    "                                            enforce_invertibility=False)\n",
    "\n",
    "            results = mod.fit()\n",
    "\n",
    "            print('ARIMA{}x{} 12 - AIC:{}'.format(param, param_seasonal, results.aic))\n",
    "        except:\n",
    "            continue"
   ]
  },
  {
   "cell_type": "code",
   "execution_count": null,
   "metadata": {
    "collapsed": false
   },
   "outputs": [],
   "source": [
    "# Try the best model (lowest AIC)\n",
    "best_mod = sm.tsa.statespace.SARIMAX(co2_data_week,\n",
    "                                order=(1, 1, 1),\n",
    "                                seasonal_order=(1, 1, 1, 12),\n",
    "                                enforce_stationarity=False,\n",
    "                                enforce_invertibility=False)\n",
    "\n",
    "results = best_mod.fit()\n",
    "results.summary().tables[1]"
   ]
  },
  {
   "cell_type": "code",
   "execution_count": null,
   "metadata": {
    "collapsed": false
   },
   "outputs": [],
   "source": [
    "results.plot_diagnostics(figsize=(15, 12))\n",
    "plt.show()"
   ]
  },
  {
   "cell_type": "markdown",
   "metadata": {},
   "source": [
    "One wants to ensure that the residuals of our model are uncorrelated and normally distributed with zero-mean. "
   ]
  },
  {
   "cell_type": "code",
   "execution_count": null,
   "metadata": {
    "collapsed": false
   },
   "outputs": [],
   "source": [
    "pred = results.get_prediction(start=pd.to_datetime('1996-03-10'), dynamic=False)\n",
    "pred_ci = pred.conf_int()"
   ]
  },
  {
   "cell_type": "code",
   "execution_count": null,
   "metadata": {
    "collapsed": false
   },
   "outputs": [],
   "source": [
    "ax = co2_data_week['1990':].plot(label='observed')\n",
    "pred.predicted_mean.plot(ax=ax, label='One-step ahead Forecast', alpha=.7)\n",
    "\n",
    "ax.fill_between(pred_ci.index,\n",
    "                pred_ci.iloc[:, 0],\n",
    "                pred_ci.iloc[:, 1], color='k', alpha=.2)\n",
    "\n",
    "ax.set_xlabel('Date')\n",
    "ax.set_ylabel('CO2 Levels')\n",
    "plt.legend()\n",
    "\n",
    "plt.show()"
   ]
  },
  {
   "cell_type": "markdown",
   "metadata": {},
   "source": [
    "### http://www.statsmodels.org/ notebooks\n",
    "\n",
    "The examples below are adapted to the [statsmodels.org](http://www.statsmodels.org) notebooks"
   ]
  },
  {
   "cell_type": "code",
   "execution_count": null,
   "metadata": {
    "collapsed": false
   },
   "outputs": [],
   "source": [
    "# Dataset\n",
    "wpi1 = requests.get('http://www.stata-press.com/data/r12/wpi1.dta').content\n",
    "data = pd.read_stata(BytesIO(wpi1))\n",
    "data.index = data.t\n",
    "\n",
    "# Fit the model\n",
    "mod = sm.tsa.statespace.SARIMAX(data['wpi'], trend='c', order=(1,1,1))\n",
    "res = mod.fit(disp=False)\n",
    "res.summary()"
   ]
  },
  {
   "cell_type": "code",
   "execution_count": null,
   "metadata": {
    "collapsed": true
   },
   "outputs": [],
   "source": [
    "# Dataset\n",
    "data = pd.read_stata(BytesIO(wpi1))\n",
    "data.index = data.t\n",
    "data['ln_wpi'] = np.log(data['wpi'])\n",
    "data['D.ln_wpi'] = data['ln_wpi'].diff()"
   ]
  },
  {
   "cell_type": "code",
   "execution_count": null,
   "metadata": {
    "collapsed": false
   },
   "outputs": [],
   "source": [
    "# Graph data\n",
    "fig, axes = plt.subplots(1, 2, figsize=(15,4))\n",
    "\n",
    "# Levels\n",
    "axes[0].plot(data.index._mpl_repr(), data['wpi'], '-')\n",
    "axes[0].set(title='US Wholesale Price Index')\n",
    "\n",
    "# Log difference\n",
    "axes[1].plot(data.index._mpl_repr(), data['D.ln_wpi'], '-')\n",
    "axes[1].hlines(0, data.index[0], data.index[-1], 'r')\n",
    "axes[1].set(title='US Wholesale Price Index - difference of logs');"
   ]
  },
  {
   "cell_type": "code",
   "execution_count": null,
   "metadata": {
    "collapsed": false
   },
   "outputs": [],
   "source": [
    "# Graph data\n",
    "fig, axes = plt.subplots(1, 2, figsize=(15,4))\n",
    "\n",
    "fig = sm.graphics.tsa.plot_acf(data.ix[1:, 'D.ln_wpi'], lags=40, ax=axes[0])\n",
    "fig = sm.graphics.tsa.plot_pacf(data.ix[1:, 'D.ln_wpi'], lags=40, ax=axes[1])"
   ]
  },
  {
   "cell_type": "code",
   "execution_count": null,
   "metadata": {
    "collapsed": false
   },
   "outputs": [],
   "source": [
    "# Fit the model\n",
    "mod = sm.tsa.statespace.SARIMAX(data['ln_wpi'], trend='c', order=(1,1,1))\n",
    "res = mod.fit(disp=False)\n",
    "res.summary()"
   ]
  },
  {
   "cell_type": "code",
   "execution_count": null,
   "metadata": {
    "collapsed": false
   },
   "outputs": [],
   "source": [
    "# Dataset\n",
    "air2 = requests.get('http://www.stata-press.com/data/r12/air2.dta').content\n",
    "data = pd.read_stata(BytesIO(air2))\n",
    "data.index = pd.date_range(start=datetime(data.time[0], 1, 1), periods=len(data), freq='MS')\n",
    "data['lnair'] = np.log(data['air'])\n",
    "\n",
    "# Fit the model\n",
    "mod = sm.tsa.statespace.SARIMAX(data['lnair'], order=(2,1,0), seasonal_order=(1,1,0,12), simple_differencing=True)\n",
    "res = mod.fit(disp=False)\n",
    "res.summary()"
   ]
  },
  {
   "cell_type": "code",
   "execution_count": null,
   "metadata": {
    "collapsed": false
   },
   "outputs": [],
   "source": [
    "# Dataset\n",
    "friedman2 = requests.get('http://www.stata-press.com/data/r12/friedman2.dta').content\n",
    "data = pd.read_stata(BytesIO(friedman2))\n",
    "data.index = data.time\n",
    "\n",
    "# Variables\n",
    "endog = data.ix['1959':'1981', 'consump']\n",
    "exog = sm.add_constant(data.ix['1959':'1981', 'm2'])\n",
    "\n",
    "# Fit the model\n",
    "mod = sm.tsa.statespace.SARIMAX(endog, exog, order=(1,0,1))\n",
    "res = mod.fit(disp=False)\n",
    "res.summary()"
   ]
  },
  {
   "cell_type": "code",
   "execution_count": null,
   "metadata": {
    "collapsed": false
   },
   "outputs": [],
   "source": [
    "# Dataset\n",
    "raw = pd.read_stata(BytesIO(friedman2))\n",
    "raw.index = raw.time\n",
    "data = raw.ix[:'1981']\n",
    "\n",
    "# Variables\n",
    "endog = data.ix['1959':, 'consump']\n",
    "exog = sm.add_constant(data.ix['1959':, 'm2'])\n",
    "nobs = endog.shape[0]\n",
    "\n",
    "# Fit the model\n",
    "mod = sm.tsa.statespace.SARIMAX(endog.ix[:'1978-01-01'], exog=exog.ix[:'1978-01-01'], order=(1,0,1))\n",
    "fit_res = mod.fit(disp=False)\n",
    "fit_res.summary()"
   ]
  },
  {
   "cell_type": "code",
   "execution_count": null,
   "metadata": {
    "collapsed": false
   },
   "outputs": [],
   "source": [
    "mod = sm.tsa.statespace.SARIMAX(endog, exog=exog, order=(1,0,1))\n",
    "res = mod.filter(fit_res.params)\n",
    "# In-sample one-step-ahead predictions\n",
    "predict = res.get_prediction()\n",
    "predict_ci = predict.conf_int()\n",
    "# Dynamic predictions\n",
    "predict_dy = res.get_prediction(dynamic='1978-01-01')\n",
    "predict_dy_ci = predict_dy.conf_int()\n",
    "# Graph\n",
    "fig, ax = plt.subplots(figsize=(9,4))\n",
    "npre = 4\n",
    "ax.set(title='Personal consumption', xlabel='Date', ylabel='Billions of dollars')\n",
    "\n",
    "# Plot data points\n",
    "data.ix['1977-07-01':, 'consump'].plot(ax=ax, style='o', label='Observed')\n",
    "\n",
    "# Plot predictions\n",
    "predict.predicted_mean.ix['1977-07-01':].plot(ax=ax, style='r--', label='One-step-ahead forecast')\n",
    "ci = predict_ci.ix['1977-07-01':]\n",
    "ax.fill_between(ci.index, ci.ix[:,0], ci.ix[:,1], color='r', alpha=0.1)\n",
    "predict_dy.predicted_mean.ix['1977-07-01':].plot(ax=ax, style='g', label='Dynamic forecast (1978)')\n",
    "ci = predict_dy_ci.ix['1977-07-01':]\n",
    "ax.fill_between(ci.index, ci.ix[:,0], ci.ix[:,1], color='g', alpha=0.1)\n",
    "\n",
    "legend = ax.legend(loc='lower right')"
   ]
  },
  {
   "cell_type": "code",
   "execution_count": null,
   "metadata": {
    "collapsed": false
   },
   "outputs": [],
   "source": [
    "# Prediction error\n",
    "\n",
    "# Graph\n",
    "fig, ax = plt.subplots(figsize=(9,4))\n",
    "npre = 4\n",
    "ax.set(title='Forecast error', xlabel='Date', ylabel='Forecast - Actual')\n",
    "\n",
    "# In-sample one-step-ahead predictions and 95% confidence intervals\n",
    "predict_error = predict.predicted_mean - endog\n",
    "predict_error.ix['1977-10-01':].plot(ax=ax, label='One-step-ahead forecast')\n",
    "ci = predict_ci.ix['1977-10-01':].copy()\n",
    "ci.iloc[:,0] -= endog.loc['1977-10-01':]\n",
    "ci.iloc[:,1] -= endog.loc['1977-10-01':]\n",
    "ax.fill_between(ci.index, ci.ix[:,0], ci.ix[:,1], alpha=0.1)\n",
    "\n",
    "# Dynamic predictions and 95% confidence intervals\n",
    "predict_dy_error = predict_dy.predicted_mean - endog\n",
    "predict_dy_error.ix['1977-10-01':].plot(ax=ax, style='r', label='Dynamic forecast (1978)')\n",
    "ci = predict_dy_ci.ix['1977-10-01':].copy()\n",
    "ci.iloc[:,0] -= endog.loc['1977-10-01':]\n",
    "ci.iloc[:,1] -= endog.loc['1977-10-01':]\n",
    "ax.fill_between(ci.index, ci.ix[:,0], ci.ix[:,1], color='r', alpha=0.1)\n",
    "\n",
    "legend = ax.legend(loc='lower left');\n",
    "legend.get_frame().set_facecolor('w')"
   ]
  }
 ],
 "metadata": {
  "kernelspec": {
   "display_name": "Python 2",
   "language": "python",
   "name": "python2"
  },
  "language_info": {
   "codemirror_mode": {
    "name": "ipython",
    "version": 2
   },
   "file_extension": ".py",
   "mimetype": "text/x-python",
   "name": "python",
   "nbconvert_exporter": "python",
   "pygments_lexer": "ipython2",
   "version": "2.7.13"
  }
 },
 "nbformat": 4,
 "nbformat_minor": 2
}
