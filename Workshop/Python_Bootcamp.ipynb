{
 "cells": [
  {
   "cell_type": "code",
   "execution_count": 215,
   "metadata": {
    "collapsed": false
   },
   "outputs": [],
   "source": [
    "from __future__ import print_function\n",
    "%matplotlib inline\n",
    "import random\n",
    "import numpy as np\n",
    "import pandas as pd\n",
    "import matplotlib.pyplot as plt\n",
    "from scipy import stats\n",
    "import seaborn as sns"
   ]
  },
  {
   "cell_type": "code",
   "execution_count": 216,
   "metadata": {
    "collapsed": true
   },
   "outputs": [],
   "source": [
    "gumby = ['Gumby', 42]\n",
    "smith = ['Smith', 50]"
   ]
  },
  {
   "cell_type": "code",
   "execution_count": 217,
   "metadata": {
    "collapsed": false
   },
   "outputs": [
    {
     "data": {
      "text/plain": [
       "[['Gumby', 42], ['Smith', 50]]"
      ]
     },
     "execution_count": 217,
     "metadata": {},
     "output_type": "execute_result"
    }
   ],
   "source": [
    "d = [gumby, smith]\n",
    "d"
   ]
  },
  {
   "cell_type": "code",
   "execution_count": 218,
   "metadata": {
    "collapsed": false
   },
   "outputs": [
    {
     "data": {
      "text/plain": [
       "['Gumby', 42]"
      ]
     },
     "execution_count": 218,
     "metadata": {},
     "output_type": "execute_result"
    }
   ],
   "source": [
    "d[0]"
   ]
  },
  {
   "cell_type": "code",
   "execution_count": 219,
   "metadata": {
    "collapsed": false
   },
   "outputs": [
    {
     "data": {
      "text/plain": [
       "'Gumby'"
      ]
     },
     "execution_count": 219,
     "metadata": {},
     "output_type": "execute_result"
    }
   ],
   "source": [
    "d[0][0]"
   ]
  },
  {
   "cell_type": "code",
   "execution_count": 220,
   "metadata": {
    "collapsed": false
   },
   "outputs": [
    {
     "data": {
      "text/plain": [
       "['January',\n",
       " 'February',\n",
       " 'March',\n",
       " 'April',\n",
       " 'May',\n",
       " 'June',\n",
       " 'July',\n",
       " 'August',\n",
       " 'September',\n",
       " 'October',\n",
       " 'November',\n",
       " 'December']"
      ]
     },
     "execution_count": 220,
     "metadata": {},
     "output_type": "execute_result"
    }
   ],
   "source": [
    "months = [\n",
    "    'January',\n",
    "    'February',\n",
    "    'March',\n",
    "    'April',\n",
    "    'May',\n",
    "    'June',\n",
    "    'July',\n",
    "    'August',\n",
    "    'September',\n",
    "    'October',\n",
    "    'November',\n",
    "    'December'\n",
    "]\n",
    "months"
   ]
  },
  {
   "cell_type": "code",
   "execution_count": 221,
   "metadata": {
    "collapsed": false
   },
   "outputs": [
    {
     "data": {
      "text/plain": [
       "['March',\n",
       " 'April',\n",
       " 'May',\n",
       " 'June',\n",
       " 'July',\n",
       " 'August',\n",
       " 'September',\n",
       " 'October',\n",
       " 'November',\n",
       " 'December']"
      ]
     },
     "execution_count": 221,
     "metadata": {},
     "output_type": "execute_result"
    }
   ],
   "source": [
    "months[2:]"
   ]
  },
  {
   "cell_type": "code",
   "execution_count": 222,
   "metadata": {
    "collapsed": false
   },
   "outputs": [
    {
     "data": {
      "text/plain": [
       "['January',\n",
       " 'February',\n",
       " 'March',\n",
       " 'April',\n",
       " 'May',\n",
       " 'June',\n",
       " 'July',\n",
       " 'August',\n",
       " 'September']"
      ]
     },
     "execution_count": 222,
     "metadata": {},
     "output_type": "execute_result"
    }
   ],
   "source": [
    "months[:-3]"
   ]
  },
  {
   "cell_type": "code",
   "execution_count": 223,
   "metadata": {
    "collapsed": false
   },
   "outputs": [
    {
     "data": {
      "text/plain": [
       "['Bear', 'Brown']"
      ]
     },
     "execution_count": 223,
     "metadata": {},
     "output_type": "execute_result"
    }
   ],
   "source": [
    "s=['Bear','Brown']\n",
    "s"
   ]
  },
  {
   "cell_type": "code",
   "execution_count": 224,
   "metadata": {
    "collapsed": false
   },
   "outputs": [
    {
     "data": {
      "text/plain": [
       "['Bear', 'Brown', 'Bear', 'Brown']"
      ]
     },
     "execution_count": 224,
     "metadata": {},
     "output_type": "execute_result"
    }
   ],
   "source": [
    "s2=s+s\n",
    "s2"
   ]
  },
  {
   "cell_type": "code",
   "execution_count": 225,
   "metadata": {
    "collapsed": false
   },
   "outputs": [
    {
     "data": {
      "text/plain": [
       "['Bear',\n",
       " 'Brown',\n",
       " 'Bear',\n",
       " 'Brown',\n",
       " 'Bear',\n",
       " 'Brown',\n",
       " 'Bear',\n",
       " 'Brown',\n",
       " 'Bear',\n",
       " 'Brown']"
      ]
     },
     "execution_count": 225,
     "metadata": {},
     "output_type": "execute_result"
    }
   ],
   "source": [
    "s3=s*5\n",
    "s3"
   ]
  },
  {
   "cell_type": "code",
   "execution_count": 226,
   "metadata": {
    "collapsed": false
   },
   "outputs": [
    {
     "name": "stdout",
     "output_type": "stream",
     "text": [
      "[]\n",
      "[0, 1, 2, 3, 4, 5, 6, 7, 8]\n"
     ]
    }
   ],
   "source": [
    "numbers=[]\n",
    "print (numbers)\n",
    "for n in range(0,9):\n",
    "    numbers.append(n)\n",
    "print (numbers)    "
   ]
  },
  {
   "cell_type": "code",
   "execution_count": 227,
   "metadata": {
    "collapsed": false
   },
   "outputs": [
    {
     "data": {
      "text/plain": [
       "['H', 'e', 'l', 'l', 'o']"
      ]
     },
     "execution_count": 227,
     "metadata": {},
     "output_type": "execute_result"
    }
   ],
   "source": [
    "l=list('Hello')\n",
    "l"
   ]
  },
  {
   "cell_type": "code",
   "execution_count": 228,
   "metadata": {
    "collapsed": false
   },
   "outputs": [
    {
     "data": {
      "text/plain": [
       "['J', 'e', 'l', 'l', 'o']"
      ]
     },
     "execution_count": 228,
     "metadata": {},
     "output_type": "execute_result"
    }
   ],
   "source": [
    "l[0]='J'\n",
    "l"
   ]
  },
  {
   "cell_type": "code",
   "execution_count": 229,
   "metadata": {
    "collapsed": false
   },
   "outputs": [
    {
     "data": {
      "text/plain": [
       "'Jello'"
      ]
     },
     "execution_count": 229,
     "metadata": {},
     "output_type": "execute_result"
    }
   ],
   "source": [
    "t=''.join(l)\n",
    "t"
   ]
  },
  {
   "cell_type": "code",
   "execution_count": 230,
   "metadata": {
    "collapsed": false
   },
   "outputs": [
    {
     "name": "stdout",
     "output_type": "stream",
     "text": [
      "[['Gumby', 42], ['Smith', 50]]\n",
      "{'Gumby': 42, 'Smith': 50}\n"
     ]
    }
   ],
   "source": [
    "print (d)\n",
    "di=dict(d)\n",
    "print (di)"
   ]
  },
  {
   "cell_type": "code",
   "execution_count": 231,
   "metadata": {
    "collapsed": false
   },
   "outputs": [
    {
     "data": {
      "text/plain": [
       "42"
      ]
     },
     "execution_count": 231,
     "metadata": {},
     "output_type": "execute_result"
    }
   ],
   "source": [
    "di['Gumby']"
   ]
  },
  {
   "cell_type": "code",
   "execution_count": 232,
   "metadata": {
    "collapsed": false
   },
   "outputs": [
    {
     "name": "stdout",
     "output_type": "stream",
     "text": [
      "-1\n"
     ]
    }
   ],
   "source": [
    "x, y, z = -1, 0, 1\n",
    "print (x)"
   ]
  },
  {
   "cell_type": "code",
   "execution_count": 233,
   "metadata": {
    "collapsed": false
   },
   "outputs": [
    {
     "name": "stdout",
     "output_type": "stream",
     "text": [
      "The number is negative\n",
      "None\n",
      "The number is zero\n",
      "None\n",
      "The number is positive\n",
      "None\n"
     ]
    }
   ],
   "source": [
    "def poz(num):\n",
    "  if num > 0:\n",
    "    print('The number is positive')\n",
    "  elif num < 0:\n",
    "    print('The number is negative')\n",
    "  else:\n",
    "    print('The number is zero')\n",
    "    \n",
    "print (poz(x))    \n",
    "print (poz(y)) \n",
    "print (poz(z)) "
   ]
  },
  {
   "cell_type": "code",
   "execution_count": 234,
   "metadata": {
    "collapsed": false
   },
   "outputs": [
    {
     "name": "stdout",
     "output_type": "stream",
     "text": [
      "Domain name: something\n",
      "Domain name: something.com\n"
     ]
    }
   ],
   "source": [
    "# Split up a URL of the form http://www.something.com\n",
    "\n",
    "url = 'http://www.something.com'\n",
    "domain = url[11:-4]\n",
    "\n",
    "print (\"Domain name: \" + domain)\n",
    "print (\"Domain name: \" + url[11:])"
   ]
  },
  {
   "cell_type": "code",
   "execution_count": 235,
   "metadata": {
    "collapsed": false
   },
   "outputs": [
    {
     "name": "stdout",
     "output_type": "stream",
     "text": [
      "One liter of iron weighs 7800 grams\n",
      "One liter of air weighs 1.2 grams\n",
      "One liter of ice weighs 900 grams\n",
      "One liter of human body weighs 1030.0 grams\n",
      "One liter of human body weighs 1030 grams\n",
      "      test ?\n",
      "      test ?\n",
      "test       ?\n",
      "   test    ?\n"
     ]
    }
   ],
   "source": [
    "'''\n",
    "Old\n",
    "'%s %s' % ('one', 'two')\n",
    "\n",
    "New\n",
    "'{} {}'.format('one', 'two')\n",
    "\n",
    "'''\n",
    "iron_density = 7.8\n",
    "air_density = 0.0012\n",
    "ice_density = 0.9\n",
    "human_body_density = 1.03\n",
    "\n",
    "liter = 1000  # Units of cm^3\n",
    "\n",
    "print ('One liter of iron weighs {ir:g} grams'\\\n",
    "    .format(ir=iron_density * liter))\n",
    "print ('One liter of air weighs {ai:g} grams'\\\n",
    "    .format(ai=air_density * liter))\n",
    "print ('One liter of ice weighs {ic:g} grams'\\\n",
    "    .format(ic=ice_density * liter))\n",
    "print ('One liter of human body weighs {hu} grams'\\\n",
    "    .format(hu=human_body_density * liter))\n",
    "print ('One liter of human body weighs {hu:g} grams'\\\n",
    "    .format(hu=human_body_density * liter))\n",
    "\n",
    "print ('%10s ?' % ('test'))\n",
    "\n",
    "print ('{:>10} ?'.format('test'))\n",
    "\n",
    "print ('{:<10} ?'.format('test'))\n",
    "print ('{:^10} ?'.format('test'))"
   ]
  },
  {
   "cell_type": "code",
   "execution_count": 236,
   "metadata": {
    "collapsed": false
   },
   "outputs": [
    {
     "name": "stdout",
     "output_type": "stream",
     "text": [
      "0.17603266338214976\n",
      "0.176\n"
     ]
    }
   ],
   "source": [
    "from math import pi, exp, sqrt\n",
    "\n",
    "m = 0\n",
    "s = 2.0\n",
    "x = 1.0\n",
    "\n",
    "f = 1 / (sqrt(2 * pi) * s) * exp(-0.5 * ((x - m) / s) ** 2)\n",
    "print (f)\n",
    "print ('%.3f'%f)"
   ]
  },
  {
   "cell_type": "code",
   "execution_count": 274,
   "metadata": {
    "collapsed": false
   },
   "outputs": [
    {
     "name": "stdout",
     "output_type": "stream",
     "text": [
      "1.0\n"
     ]
    }
   ],
   "source": [
    "import math\n",
    "\n",
    "x = math.cos(2 * math.pi)\n",
    "\n",
    "print(x)"
   ]
  },
  {
   "cell_type": "code",
   "execution_count": 275,
   "metadata": {
    "collapsed": false
   },
   "outputs": [
    {
     "name": "stdout",
     "output_type": "stream",
     "text": [
      "['__doc__', '__file__', '__loader__', '__name__', '__package__', '__spec__', 'acos', 'acosh', 'asin', 'asinh', 'atan', 'atan2', 'atanh', 'ceil', 'copysign', 'cos', 'cosh', 'degrees', 'e', 'erf', 'erfc', 'exp', 'expm1', 'fabs', 'factorial', 'floor', 'fmod', 'frexp', 'fsum', 'gamma', 'gcd', 'hypot', 'inf', 'isclose', 'isfinite', 'isinf', 'isnan', 'ldexp', 'lgamma', 'log', 'log10', 'log1p', 'log2', 'modf', 'nan', 'pi', 'pow', 'radians', 'sin', 'sinh', 'sqrt', 'tan', 'tanh', 'tau', 'trunc']\n"
     ]
    }
   ],
   "source": [
    "print(dir(math))"
   ]
  },
  {
   "cell_type": "code",
   "execution_count": 276,
   "metadata": {
    "collapsed": false
   },
   "outputs": [
    {
     "name": "stdout",
     "output_type": "stream",
     "text": [
      "Help on built-in function log in module math:\n",
      "\n",
      "log(...)\n",
      "    log(x[, base])\n",
      "    \n",
      "    Return the logarithm of x to the given base.\n",
      "    If the base not specified, returns the natural logarithm (base e) of x.\n",
      "\n"
     ]
    }
   ],
   "source": [
    "help(math.log)"
   ]
  },
  {
   "cell_type": "code",
   "execution_count": 278,
   "metadata": {
    "collapsed": false
   },
   "outputs": [
    {
     "data": {
      "text/plain": [
       "2.0794415416798357"
      ]
     },
     "execution_count": 278,
     "metadata": {},
     "output_type": "execute_result"
    }
   ],
   "source": [
    "math.log(8)"
   ]
  },
  {
   "cell_type": "code",
   "execution_count": 279,
   "metadata": {
    "collapsed": false
   },
   "outputs": [
    {
     "data": {
      "text/plain": [
       "3.0"
      ]
     },
     "execution_count": 279,
     "metadata": {},
     "output_type": "execute_result"
    }
   ],
   "source": [
    "math.log(8,2)"
   ]
  },
  {
   "cell_type": "code",
   "execution_count": 280,
   "metadata": {
    "collapsed": false
   },
   "outputs": [
    {
     "data": {
      "text/plain": [
       "float"
      ]
     },
     "execution_count": 280,
     "metadata": {},
     "output_type": "execute_result"
    }
   ],
   "source": [
    "x=33.3\n",
    "type(x)"
   ]
  },
  {
   "cell_type": "code",
   "execution_count": 281,
   "metadata": {
    "collapsed": false
   },
   "outputs": [
    {
     "data": {
      "text/plain": [
       "bool"
      ]
     },
     "execution_count": 281,
     "metadata": {},
     "output_type": "execute_result"
    }
   ],
   "source": [
    "b1 = True\n",
    "b2 = False\n",
    "\n",
    "type(b1)"
   ]
  },
  {
   "cell_type": "code",
   "execution_count": 283,
   "metadata": {
    "collapsed": false
   },
   "outputs": [
    {
     "data": {
      "text/plain": [
       "complex"
      ]
     },
     "execution_count": 283,
     "metadata": {},
     "output_type": "execute_result"
    }
   ],
   "source": [
    "x = 1.0 - 1.0j\n",
    "type(x)\n"
   ]
  },
  {
   "cell_type": "code",
   "execution_count": 284,
   "metadata": {
    "collapsed": false
   },
   "outputs": [
    {
     "name": "stdout",
     "output_type": "stream",
     "text": [
      "(1-1j)\n",
      "1.0 -1.0\n"
     ]
    }
   ],
   "source": [
    "print (x)\n",
    "print(x.real, x.imag)"
   ]
  },
  {
   "cell_type": "code",
   "execution_count": 285,
   "metadata": {
    "collapsed": false
   },
   "outputs": [
    {
     "data": {
      "text/plain": [
       "True"
      ]
     },
     "execution_count": 285,
     "metadata": {},
     "output_type": "execute_result"
    }
   ],
   "source": [
    "x = 1.1\n",
    "type(x) is float"
   ]
  },
  {
   "cell_type": "code",
   "execution_count": 286,
   "metadata": {
    "collapsed": false
   },
   "outputs": [
    {
     "data": {
      "text/plain": [
       "False"
      ]
     },
     "execution_count": 286,
     "metadata": {},
     "output_type": "execute_result"
    }
   ],
   "source": [
    "True and False"
   ]
  },
  {
   "cell_type": "code",
   "execution_count": 287,
   "metadata": {
    "collapsed": false
   },
   "outputs": [
    {
     "data": {
      "text/plain": [
       "True"
      ]
     },
     "execution_count": 287,
     "metadata": {},
     "output_type": "execute_result"
    }
   ],
   "source": [
    "not False"
   ]
  },
  {
   "cell_type": "code",
   "execution_count": 288,
   "metadata": {
    "collapsed": false
   },
   "outputs": [
    {
     "data": {
      "text/plain": [
       "True"
      ]
     },
     "execution_count": 288,
     "metadata": {},
     "output_type": "execute_result"
    }
   ],
   "source": [
    "True or False"
   ]
  },
  {
   "cell_type": "code",
   "execution_count": 289,
   "metadata": {
    "collapsed": false
   },
   "outputs": [
    {
     "data": {
      "text/plain": [
       "(True, False)"
      ]
     },
     "execution_count": 289,
     "metadata": {},
     "output_type": "execute_result"
    }
   ],
   "source": [
    "2 > 1, 2 < 1"
   ]
  },
  {
   "cell_type": "code",
   "execution_count": 291,
   "metadata": {
    "collapsed": false
   },
   "outputs": [
    {
     "name": "stdout",
     "output_type": "stream",
     "text": [
      " world\n",
      "o w\n",
      "Hello\n",
      "Hello world\n",
      "Hello world\n",
      "Hlowrd\n"
     ]
    }
   ],
   "source": [
    "s='Hello world'\n",
    "print (s[5:])\n",
    "print (s[4:7])\n",
    "print (s[:5])\n",
    "print (s[:])\n",
    "print (s[::1])\n",
    "print (s[::2])"
   ]
  },
  {
   "cell_type": "code",
   "execution_count": 292,
   "metadata": {
    "collapsed": false
   },
   "outputs": [
    {
     "data": {
      "text/plain": [
       "[1, [2, [3, [4, [5]]]]]"
      ]
     },
     "execution_count": 292,
     "metadata": {},
     "output_type": "execute_result"
    }
   ],
   "source": [
    "nested_list = [1, [2, [3, [4, [5]]]]]\n",
    "\n",
    "nested_list"
   ]
  },
  {
   "cell_type": "code",
   "execution_count": 293,
   "metadata": {
    "collapsed": false
   },
   "outputs": [
    {
     "data": {
      "text/plain": [
       "1"
      ]
     },
     "execution_count": 293,
     "metadata": {},
     "output_type": "execute_result"
    }
   ],
   "source": [
    "nested_list[0]"
   ]
  },
  {
   "cell_type": "code",
   "execution_count": 295,
   "metadata": {
    "collapsed": false
   },
   "outputs": [
    {
     "data": {
      "text/plain": [
       "2"
      ]
     },
     "execution_count": 295,
     "metadata": {},
     "output_type": "execute_result"
    }
   ],
   "source": [
    "nested_list[1][0]"
   ]
  },
  {
   "cell_type": "code",
   "execution_count": 296,
   "metadata": {
    "collapsed": false
   },
   "outputs": [
    {
     "data": {
      "text/plain": [
       "[2, [3, [4, [5]]]]"
      ]
     },
     "execution_count": 296,
     "metadata": {},
     "output_type": "execute_result"
    }
   ],
   "source": [
    "nested_list[1]"
   ]
  },
  {
   "cell_type": "code",
   "execution_count": 297,
   "metadata": {
    "collapsed": false
   },
   "outputs": [
    {
     "name": "stdout",
     "output_type": "stream",
     "text": [
      "1\n",
      "2\n",
      "3\n"
     ]
    }
   ],
   "source": [
    "for x in [1,2,3]:\n",
    "    print(x)"
   ]
  },
  {
   "cell_type": "code",
   "execution_count": 298,
   "metadata": {
    "collapsed": false
   },
   "outputs": [
    {
     "name": "stdout",
     "output_type": "stream",
     "text": [
      "-3\n",
      "-2\n",
      "-1\n",
      "0\n",
      "1\n",
      "2\n"
     ]
    }
   ],
   "source": [
    "for x in range(-3,3):\n",
    "    print(x)"
   ]
  },
  {
   "cell_type": "code",
   "execution_count": 299,
   "metadata": {
    "collapsed": false
   },
   "outputs": [
    {
     "name": "stdout",
     "output_type": "stream",
     "text": [
      "p1 = 1.0\n",
      "p2 = 2.0\n",
      "p3 = 3.0\n"
     ]
    }
   ],
   "source": [
    "params = {\"p1\" : 1.0,\n",
    "          \"p2\" : 2.0,\n",
    "          \"p3\" : 3.0,}\n",
    "\n",
    "for key, value in params.items():\n",
    "    print(key + \" = \" + str(value))"
   ]
  },
  {
   "cell_type": "code",
   "execution_count": 300,
   "metadata": {
    "collapsed": false
   },
   "outputs": [
    {
     "name": "stdout",
     "output_type": "stream",
     "text": [
      "[0, 1, 4, 9, 16]\n"
     ]
    }
   ],
   "source": [
    "l1 = [x**2 for x in range(0,5)]\n",
    "\n",
    "print(l1)"
   ]
  },
  {
   "cell_type": "code",
   "execution_count": 301,
   "metadata": {
    "collapsed": false
   },
   "outputs": [
    {
     "name": "stdout",
     "output_type": "stream",
     "text": [
      "0\n",
      "1\n",
      "2\n",
      "3\n",
      "4\n",
      "done\n"
     ]
    }
   ],
   "source": [
    "i = 0\n",
    "\n",
    "while i < 5:\n",
    "    print(i)\n",
    "    \n",
    "    i = i + 1\n",
    "    \n",
    "print(\"done\")"
   ]
  },
  {
   "cell_type": "code",
   "execution_count": 302,
   "metadata": {
    "collapsed": false
   },
   "outputs": [
    {
     "data": {
      "text/plain": [
       "25"
      ]
     },
     "execution_count": 302,
     "metadata": {},
     "output_type": "execute_result"
    }
   ],
   "source": [
    "def foo(x, p=2, debug=False):\n",
    "    if debug:\n",
    "        print(\"evaluating foo for x = \" + str(x) + \" using exponent p = \" + str(p))\n",
    "    return x**p\n",
    "\n",
    "foo(5)"
   ]
  },
  {
   "cell_type": "code",
   "execution_count": 303,
   "metadata": {
    "collapsed": false
   },
   "outputs": [
    {
     "data": {
      "text/plain": [
       "125"
      ]
     },
     "execution_count": 303,
     "metadata": {},
     "output_type": "execute_result"
    }
   ],
   "source": [
    "foo(5,3)"
   ]
  },
  {
   "cell_type": "code",
   "execution_count": 304,
   "metadata": {
    "collapsed": false
   },
   "outputs": [
    {
     "name": "stdout",
     "output_type": "stream",
     "text": [
      "evaluating foo for x = 5 using exponent p = 2\n"
     ]
    },
    {
     "data": {
      "text/plain": [
       "25"
      ]
     },
     "execution_count": 304,
     "metadata": {},
     "output_type": "execute_result"
    }
   ],
   "source": [
    "foo(5,2,True)"
   ]
  },
  {
   "cell_type": "code",
   "execution_count": 305,
   "metadata": {
    "collapsed": false
   },
   "outputs": [
    {
     "name": "stdout",
     "output_type": "stream",
     "text": [
      "evaluating foo for x = 5 using exponent p = 2\n"
     ]
    },
    {
     "data": {
      "text/plain": [
       "25"
      ]
     },
     "execution_count": 305,
     "metadata": {},
     "output_type": "execute_result"
    }
   ],
   "source": [
    "foo(5,debug=True)"
   ]
  },
  {
   "cell_type": "markdown",
   "metadata": {},
   "source": [
    "Unnamed functions (lambda function)\n",
    "In Python we can also create unnamed functions, using the lambda keyword:"
   ]
  },
  {
   "cell_type": "code",
   "execution_count": 306,
   "metadata": {
    "collapsed": true
   },
   "outputs": [],
   "source": [
    "f1 = lambda x: x**2\n",
    "    \n",
    "# is equivalent to \n",
    "\n",
    "def f2(x):\n",
    "    return x**2"
   ]
  },
  {
   "cell_type": "code",
   "execution_count": 307,
   "metadata": {
    "collapsed": false
   },
   "outputs": [
    {
     "data": {
      "text/plain": [
       "(4, 4)"
      ]
     },
     "execution_count": 307,
     "metadata": {},
     "output_type": "execute_result"
    }
   ],
   "source": [
    "f1(2), f2(2)"
   ]
  },
  {
   "cell_type": "code",
   "execution_count": 311,
   "metadata": {
    "collapsed": false
   },
   "outputs": [
    {
     "data": {
      "text/plain": [
       "[25, 16, 9, 4, 1, 0, 1, 4, 9, 16]"
      ]
     },
     "execution_count": 311,
     "metadata": {},
     "output_type": "execute_result"
    }
   ],
   "source": [
    "list(map(lambda x: x**2, range(-5,5)))"
   ]
  },
  {
   "cell_type": "code",
   "execution_count": 312,
   "metadata": {
    "collapsed": false
   },
   "outputs": [
    {
     "name": "stdout",
     "output_type": "stream",
     "text": [
      "test\n",
      "Caught an exception\n"
     ]
    }
   ],
   "source": [
    "try:\n",
    "    print(\"test\")\n",
    "    # generate an error: the variable test is not defined\n",
    "    print(test)\n",
    "except:\n",
    "    print(\"Caught an exception\")"
   ]
  },
  {
   "cell_type": "code",
   "execution_count": 313,
   "metadata": {
    "collapsed": false
   },
   "outputs": [
    {
     "name": "stdout",
     "output_type": "stream",
     "text": [
      "test\n",
      "Testing\n"
     ]
    }
   ],
   "source": [
    "test=\"Testing\"\n",
    "try:\n",
    "    print(\"test\")\n",
    "    # generate an error: the variable test is not defined\n",
    "    print(test)\n",
    "except:\n",
    "    print(\"Caught an exception\")"
   ]
  },
  {
   "cell_type": "code",
   "execution_count": 237,
   "metadata": {
    "collapsed": false
   },
   "outputs": [
    {
     "name": "stdout",
     "output_type": "stream",
     "text": [
      "=======================================================\n",
      "Item                                              Price\n",
      "-------------------------------------------------------\n",
      "Apples                                             0.40\n",
      "Pears                                              0.50\n",
      "Cantaloupes                                        1.92\n",
      "Dried Apricots (16 oz.)                            8.00\n",
      "Prunes (4 lbs.)                                   12.00\n",
      "=======================================================\n"
     ]
    }
   ],
   "source": [
    "width = 55\n",
    "\n",
    "price_width = 10\n",
    "item_width = width - price_width\n",
    "\n",
    "header_format = '%-*s%*s'\n",
    "format_s       = '%-*s%*.2f'\n",
    "\n",
    "print ('=' * width)\n",
    "\n",
    "print (header_format % (item_width, 'Item', price_width, 'Price'))\n",
    "\n",
    "print ('-' * width)\n",
    "\n",
    "print (format_s % (item_width, 'Apples', price_width, 0.4))\n",
    "print (format_s % (item_width, 'Pears', price_width, 0.5))\n",
    "print (format_s % (item_width, 'Cantaloupes', price_width, 1.92))\n",
    "print (format_s % (item_width, 'Dried Apricots (16 oz.)', price_width, 8))\n",
    "print (format_s % (item_width, 'Prunes (4 lbs.)', price_width, 12))\n",
    "\n",
    "print ('=' * width)"
   ]
  },
  {
   "cell_type": "code",
   "execution_count": 238,
   "metadata": {
    "collapsed": false
   },
   "outputs": [
    {
     "name": "stdout",
     "output_type": "stream",
     "text": [
      "     t      y\n",
      " 0.000  0.000\n",
      " 0.020  0.018\n",
      " 0.041  0.033\n",
      " 0.061  0.043\n",
      " 0.082  0.049\n",
      " 0.102  0.051\n",
      " 0.122  0.049\n",
      " 0.143  0.043\n",
      " 0.163  0.033\n",
      " 0.183  0.018\n",
      " 0.204  0.000\n"
     ]
    }
   ],
   "source": [
    "v0 = 1\n",
    "g = 9.81\n",
    "n = 11\n",
    "dt = 2 * v0 / g / (n - 1)\n",
    "\n",
    "print ('%6s %6s' % ('t', 'y'))\n",
    "for i in range(0, n):\n",
    "    t = i * dt\n",
    "    y = v0 * t - 0.5 * g * t ** 2\n",
    "    print ('%6.3f %6.3f' % (t, y))"
   ]
  },
  {
   "cell_type": "code",
   "execution_count": 239,
   "metadata": {
    "collapsed": false
   },
   "outputs": [
    {
     "name": "stdout",
     "output_type": "stream",
     "text": [
      "[0.0, 0.0254841997961264, 0.0509683995922528, 0.0764525993883792, 0.1019367991845056, 0.127420998980632, 0.1529051987767584, 0.1783893985728848, 0.2038735983690112, 0.2293577981651376, 0.254841997961264, 0.2803261977573904, 0.3058103975535168, 0.33129459734964317, 0.3567787971457696, 0.382262996941896, 0.4077471967380224, 0.43323139653414877, 0.4587155963302752, 0.4841997961264016, 0.509683995922528, 0.5351681957186544, 0.5606523955147809, 0.5861365953109072, 0.6116207951070336, 0.63710499490316, 0.6625891946992863, 0.6880733944954128, 0.7135575942915392, 0.7390417940876656, 0.764525993883792, 0.7900101936799184, 0.8154943934760448, 0.8409785932721712, 0.8664627930682975, 0.891946992864424, 0.9174311926605504, 0.9429153924566768, 0.9683995922528033, 0.9938837920489296, 1.019367991845056, 1.0448521916411824, 1.0703363914373087, 1.0958205912334351, 1.1213047910295617, 1.146788990825688, 1.1722731906218145, 1.1977573904179408, 1.2232415902140672, 1.2487257900101936, 1.27420998980632, 1.2996941896024463, 1.3251783893985727, 1.3506625891946993, 1.3761467889908257, 1.401630988786952, 1.4271151885830784, 1.4525993883792048, 1.4780835881753311, 1.5035677879714575, 1.529051987767584, 1.5545361875637105, 1.5800203873598369, 1.6055045871559632, 1.6309887869520896, 1.656472986748216, 1.6819571865443423, 1.7074413863404687, 1.732925586136595, 1.7584097859327217, 1.783893985728848, 1.8093781855249744, 1.8348623853211008, 1.8603465851172272, 1.8858307849133535, 1.91131498470948, 1.9367991845056065, 1.9622833843017329, 1.9877675840978593, 2.0132517838939856, 2.038735983690112]\n",
      "[0.0, 0.2516564729867482, 0.4969418960244648, 0.7358562691131498, 0.9683995922528033, 1.194571865443425, 1.4143730886850152, 1.627803261977574, 1.8348623853211008, 2.0355504587155964, 2.22986748216106, 2.417813455657493, 2.599388379204893, 2.774592252803262, 2.9434250764525993, 3.1058868501529053, 3.261977573904179, 3.411697247706422, 3.555045871559633, 3.6920234454638123, 3.82262996941896, 3.946865443425076, 4.0647298674821615, 4.176223241590214, 4.281345565749236, 4.380096839959224, 4.472477064220183, 4.55848623853211, 4.638124362895005, 4.711391437308869, 4.7782874617737, 4.8388124362894995, 4.892966360856269, 4.940749235474005, 4.982161060142711, 5.0172018348623855, 5.045871559633028, 5.068170234454638, 5.084097859327216, 5.093654434250765, 5.09683995922528, 5.093654434250765, 5.084097859327216, 5.068170234454638, 5.045871559633029, 5.0172018348623855, 4.982161060142711, 4.940749235474006, 4.89296636085627, 4.838812436289501, 4.778287461773699, 4.711391437308869, 4.638124362895006, 4.558486238532108, 4.4724770642201825, 4.380096839959226, 4.281345565749236, 4.176223241590215, 4.064729867482162, 3.946865443425075, 3.8226299694189585, 3.6920234454638123, 3.5550458715596314, 3.411697247706421, 3.261977573904179, 3.105886850152906, 2.9434250764525984, 2.774592252803263, 2.5993883792048926, 2.417813455657491, 2.22986748216106, 2.0355504587155977, 1.8348623853211024, 1.6278032619775722, 1.4143730886850179, 1.1945718654434252, 0.9683995922528013, 0.7358562691131496, 0.4969418960244667, 0.2516564729867454, 0.0]\n",
      "[[0.0, 0.0254841997961264, 0.0509683995922528, 0.0764525993883792, 0.1019367991845056, 0.127420998980632, 0.1529051987767584, 0.1783893985728848, 0.2038735983690112, 0.2293577981651376, 0.254841997961264, 0.2803261977573904, 0.3058103975535168, 0.33129459734964317, 0.3567787971457696, 0.382262996941896, 0.4077471967380224, 0.43323139653414877, 0.4587155963302752, 0.4841997961264016, 0.509683995922528, 0.5351681957186544, 0.5606523955147809, 0.5861365953109072, 0.6116207951070336, 0.63710499490316, 0.6625891946992863, 0.6880733944954128, 0.7135575942915392, 0.7390417940876656, 0.764525993883792, 0.7900101936799184, 0.8154943934760448, 0.8409785932721712, 0.8664627930682975, 0.891946992864424, 0.9174311926605504, 0.9429153924566768, 0.9683995922528033, 0.9938837920489296, 1.019367991845056, 1.0448521916411824, 1.0703363914373087, 1.0958205912334351, 1.1213047910295617, 1.146788990825688, 1.1722731906218145, 1.1977573904179408, 1.2232415902140672, 1.2487257900101936, 1.27420998980632, 1.2996941896024463, 1.3251783893985727, 1.3506625891946993, 1.3761467889908257, 1.401630988786952, 1.4271151885830784, 1.4525993883792048, 1.4780835881753311, 1.5035677879714575, 1.529051987767584, 1.5545361875637105, 1.5800203873598369, 1.6055045871559632, 1.6309887869520896, 1.656472986748216, 1.6819571865443423, 1.7074413863404687, 1.732925586136595, 1.7584097859327217, 1.783893985728848, 1.8093781855249744, 1.8348623853211008, 1.8603465851172272, 1.8858307849133535, 1.91131498470948, 1.9367991845056065, 1.9622833843017329, 1.9877675840978593, 2.0132517838939856, 2.038735983690112], [0.0, 0.2516564729867482, 0.4969418960244648, 0.7358562691131498, 0.9683995922528033, 1.194571865443425, 1.4143730886850152, 1.627803261977574, 1.8348623853211008, 2.0355504587155964, 2.22986748216106, 2.417813455657493, 2.599388379204893, 2.774592252803262, 2.9434250764525993, 3.1058868501529053, 3.261977573904179, 3.411697247706422, 3.555045871559633, 3.6920234454638123, 3.82262996941896, 3.946865443425076, 4.0647298674821615, 4.176223241590214, 4.281345565749236, 4.380096839959224, 4.472477064220183, 4.55848623853211, 4.638124362895005, 4.711391437308869, 4.7782874617737, 4.8388124362894995, 4.892966360856269, 4.940749235474005, 4.982161060142711, 5.0172018348623855, 5.045871559633028, 5.068170234454638, 5.084097859327216, 5.093654434250765, 5.09683995922528, 5.093654434250765, 5.084097859327216, 5.068170234454638, 5.045871559633029, 5.0172018348623855, 4.982161060142711, 4.940749235474006, 4.89296636085627, 4.838812436289501, 4.778287461773699, 4.711391437308869, 4.638124362895006, 4.558486238532108, 4.4724770642201825, 4.380096839959226, 4.281345565749236, 4.176223241590215, 4.064729867482162, 3.946865443425075, 3.8226299694189585, 3.6920234454638123, 3.5550458715596314, 3.411697247706421, 3.261977573904179, 3.105886850152906, 2.9434250764525984, 2.774592252803263, 2.5993883792048926, 2.417813455657491, 2.22986748216106, 2.0355504587155977, 1.8348623853211024, 1.6278032619775722, 1.4143730886850179, 1.1945718654434252, 0.9683995922528013, 0.7358562691131496, 0.4969418960244667, 0.2516564729867454, 0.0]]\n",
      "     t      y\n",
      " 0.000  0.000\n",
      " 0.025  0.252\n",
      " 0.051  0.497\n",
      " 0.076  0.736\n",
      " 0.102  0.968\n",
      " 0.127  1.195\n",
      " 0.153  1.414\n",
      " 0.178  1.628\n",
      " 0.204  1.835\n",
      " 0.229  2.036\n",
      " 0.255  2.230\n",
      " 0.280  2.418\n",
      " 0.306  2.599\n",
      " 0.331  2.775\n",
      " 0.357  2.943\n",
      " 0.382  3.106\n",
      " 0.408  3.262\n",
      " 0.433  3.412\n",
      " 0.459  3.555\n",
      " 0.484  3.692\n",
      " 0.510  3.823\n",
      " 0.535  3.947\n",
      " 0.561  4.065\n",
      " 0.586  4.176\n",
      " 0.612  4.281\n",
      " 0.637  4.380\n",
      " 0.663  4.472\n",
      " 0.688  4.558\n",
      " 0.714  4.638\n",
      " 0.739  4.711\n",
      " 0.765  4.778\n",
      " 0.790  4.839\n",
      " 0.815  4.893\n",
      " 0.841  4.941\n",
      " 0.866  4.982\n",
      " 0.892  5.017\n",
      " 0.917  5.046\n",
      " 0.943  5.068\n",
      " 0.968  5.084\n",
      " 0.994  5.094\n",
      " 1.019  5.097\n",
      " 1.045  5.094\n",
      " 1.070  5.084\n",
      " 1.096  5.068\n",
      " 1.121  5.046\n",
      " 1.147  5.017\n",
      " 1.172  4.982\n",
      " 1.198  4.941\n",
      " 1.223  4.893\n",
      " 1.249  4.839\n",
      " 1.274  4.778\n",
      " 1.300  4.711\n",
      " 1.325  4.638\n",
      " 1.351  4.558\n",
      " 1.376  4.472\n",
      " 1.402  4.380\n",
      " 1.427  4.281\n",
      " 1.453  4.176\n",
      " 1.478  4.065\n",
      " 1.504  3.947\n",
      " 1.529  3.823\n",
      " 1.555  3.692\n",
      " 1.580  3.555\n",
      " 1.606  3.412\n",
      " 1.631  3.262\n",
      " 1.656  3.106\n",
      " 1.682  2.943\n",
      " 1.707  2.775\n",
      " 1.733  2.599\n",
      " 1.758  2.418\n",
      " 1.784  2.230\n",
      " 1.809  2.036\n",
      " 1.835  1.835\n",
      " 1.860  1.628\n",
      " 1.886  1.414\n",
      " 1.911  1.195\n",
      " 1.937  0.968\n",
      " 1.962  0.736\n",
      " 1.988  0.497\n",
      " 2.013  0.252\n",
      " 2.039  0.000\n",
      "[[0.0, 0.0], [0.0254841997961264, 0.2516564729867482], [0.0509683995922528, 0.4969418960244648], [0.0764525993883792, 0.7358562691131498], [0.1019367991845056, 0.9683995922528033], [0.127420998980632, 1.194571865443425], [0.1529051987767584, 1.4143730886850152], [0.1783893985728848, 1.627803261977574], [0.2038735983690112, 1.8348623853211008], [0.2293577981651376, 2.0355504587155964], [0.254841997961264, 2.22986748216106], [0.2803261977573904, 2.417813455657493], [0.3058103975535168, 2.599388379204893], [0.33129459734964317, 2.774592252803262], [0.3567787971457696, 2.9434250764525993], [0.382262996941896, 3.1058868501529053], [0.4077471967380224, 3.261977573904179], [0.43323139653414877, 3.411697247706422], [0.4587155963302752, 3.555045871559633], [0.4841997961264016, 3.6920234454638123], [0.509683995922528, 3.82262996941896], [0.5351681957186544, 3.946865443425076], [0.5606523955147809, 4.0647298674821615], [0.5861365953109072, 4.176223241590214], [0.6116207951070336, 4.281345565749236], [0.63710499490316, 4.380096839959224], [0.6625891946992863, 4.472477064220183], [0.6880733944954128, 4.55848623853211], [0.7135575942915392, 4.638124362895005], [0.7390417940876656, 4.711391437308869], [0.764525993883792, 4.7782874617737], [0.7900101936799184, 4.8388124362894995], [0.8154943934760448, 4.892966360856269], [0.8409785932721712, 4.940749235474005], [0.8664627930682975, 4.982161060142711], [0.891946992864424, 5.0172018348623855], [0.9174311926605504, 5.045871559633028], [0.9429153924566768, 5.068170234454638], [0.9683995922528033, 5.084097859327216], [0.9938837920489296, 5.093654434250765], [1.019367991845056, 5.09683995922528], [1.0448521916411824, 5.093654434250765], [1.0703363914373087, 5.084097859327216], [1.0958205912334351, 5.068170234454638], [1.1213047910295617, 5.045871559633029], [1.146788990825688, 5.0172018348623855], [1.1722731906218145, 4.982161060142711], [1.1977573904179408, 4.940749235474006], [1.2232415902140672, 4.89296636085627], [1.2487257900101936, 4.838812436289501], [1.27420998980632, 4.778287461773699], [1.2996941896024463, 4.711391437308869], [1.3251783893985727, 4.638124362895006], [1.3506625891946993, 4.558486238532108], [1.3761467889908257, 4.4724770642201825], [1.401630988786952, 4.380096839959226], [1.4271151885830784, 4.281345565749236], [1.4525993883792048, 4.176223241590215], [1.4780835881753311, 4.064729867482162], [1.5035677879714575, 3.946865443425075], [1.529051987767584, 3.8226299694189585], [1.5545361875637105, 3.6920234454638123], [1.5800203873598369, 3.5550458715596314], [1.6055045871559632, 3.411697247706421], [1.6309887869520896, 3.261977573904179], [1.656472986748216, 3.105886850152906], [1.6819571865443423, 2.9434250764525984], [1.7074413863404687, 2.774592252803263], [1.732925586136595, 2.5993883792048926], [1.7584097859327217, 2.417813455657491], [1.783893985728848, 2.22986748216106], [1.8093781855249744, 2.0355504587155977], [1.8348623853211008, 1.8348623853211024], [1.8603465851172272, 1.6278032619775722], [1.8858307849133535, 1.4143730886850179], [1.91131498470948, 1.1945718654434252], [1.9367991845056065, 0.9683995922528013], [1.9622833843017329, 0.7358562691131496], [1.9877675840978593, 0.4969418960244667], [2.0132517838939856, 0.2516564729867454], [2.038735983690112, 0.0]]\n",
      "\n",
      "\n",
      "\n",
      "\n",
      "\n",
      "\n",
      "\n",
      "     t      y\n",
      " 0.000  0.000\n",
      " 0.025  0.252\n",
      " 0.051  0.497\n",
      " 0.076  0.736\n",
      " 0.102  0.968\n",
      " 0.127  1.195\n",
      " 0.153  1.414\n",
      " 0.178  1.628\n",
      " 0.204  1.835\n",
      " 0.229  2.036\n",
      " 0.255  2.230\n",
      " 0.280  2.418\n",
      " 0.306  2.599\n",
      " 0.331  2.775\n",
      " 0.357  2.943\n",
      " 0.382  3.106\n",
      " 0.408  3.262\n",
      " 0.433  3.412\n",
      " 0.459  3.555\n",
      " 0.484  3.692\n",
      " 0.510  3.823\n",
      " 0.535  3.947\n",
      " 0.561  4.065\n",
      " 0.586  4.176\n",
      " 0.612  4.281\n",
      " 0.637  4.380\n",
      " 0.663  4.472\n",
      " 0.688  4.558\n",
      " 0.714  4.638\n",
      " 0.739  4.711\n",
      " 0.765  4.778\n",
      " 0.790  4.839\n",
      " 0.815  4.893\n",
      " 0.841  4.941\n",
      " 0.866  4.982\n",
      " 0.892  5.017\n",
      " 0.917  5.046\n",
      " 0.943  5.068\n",
      " 0.968  5.084\n",
      " 0.994  5.094\n",
      " 1.019  5.097\n",
      " 1.045  5.094\n",
      " 1.070  5.084\n",
      " 1.096  5.068\n",
      " 1.121  5.046\n",
      " 1.147  5.017\n",
      " 1.172  4.982\n",
      " 1.198  4.941\n",
      " 1.223  4.893\n",
      " 1.249  4.839\n",
      " 1.274  4.778\n",
      " 1.300  4.711\n",
      " 1.325  4.638\n",
      " 1.351  4.558\n",
      " 1.376  4.472\n",
      " 1.402  4.380\n",
      " 1.427  4.281\n",
      " 1.453  4.176\n",
      " 1.478  4.065\n",
      " 1.504  3.947\n",
      " 1.529  3.823\n",
      " 1.555  3.692\n",
      " 1.580  3.555\n",
      " 1.606  3.412\n",
      " 1.631  3.262\n",
      " 1.656  3.106\n",
      " 1.682  2.943\n",
      " 1.707  2.775\n",
      " 1.733  2.599\n",
      " 1.758  2.418\n",
      " 1.784  2.230\n",
      " 1.809  2.036\n",
      " 1.835  1.835\n",
      " 1.860  1.628\n",
      " 1.886  1.414\n",
      " 1.911  1.195\n",
      " 1.937  0.968\n",
      " 1.962  0.736\n",
      " 1.988  0.497\n",
      " 2.013  0.252\n",
      " 2.039  0.000\n"
     ]
    }
   ],
   "source": [
    "v0 = 10\n",
    "g = 9.81\n",
    "n = 81\n",
    "dt = 2 * v0 / g / (n - 1)\n",
    "\n",
    "t = [i * dt for i in range(0, n)]\n",
    "print (t)\n",
    "y = [v0 * t[i] - 0.5 * g * t[i] ** 2 for i in range(0, n)]\n",
    "print (y)\n",
    "\n",
    "ty1 = [t, y]\n",
    "print (ty1)\n",
    "       \n",
    "print ('%6s %6s' % ('t', 'y'))\n",
    "for i in range(len(t)):\n",
    "    print ('%6.3f %6.3f' % (ty1[0][i], ty1[1][i]))\n",
    "\n",
    "ty2 = [[tval, yval] for tval, yval in zip(t, y)]\n",
    "print (ty2)\n",
    "    \n",
    "print ('\\n\\n\\n\\n\\n\\n')    \n",
    "print ('%6s %6s' % ('t', 'y'))\n",
    "for tval, yval in ty2:\n",
    "    print ('%6.3f %6.3f' % (tval, yval))"
   ]
  },
  {
   "cell_type": "code",
   "execution_count": 240,
   "metadata": {
    "collapsed": false
   },
   "outputs": [
    {
     "name": "stdout",
     "output_type": "stream",
     "text": [
      "Beth's phone number is 9102 and Bar street 42.\n"
     ]
    }
   ],
   "source": [
    "# A dictionary with person names as keys. Each person is represented as\n",
    "# another dictionary with the keys 'phone' and 'addr' referring to their phone\n",
    "# number and address, respectively.\n",
    "\n",
    "people = {\n",
    "\n",
    "    'Alice': {\n",
    "        'phone': '2341',\n",
    "        'addr': 'Foo drive 23'\n",
    "    },\n",
    "\n",
    "    'Beth': {\n",
    "        'phone': '9102',\n",
    "        'addr': 'Bar street 42'\n",
    "    },\n",
    "\n",
    "    'Cecil': {\n",
    "        'phone': '3158',\n",
    "        'addr': 'Baz avenue 90'\n",
    "    }\n",
    "\n",
    "}\n",
    "\n",
    "# Descriptive labels for the phone number and address. These will be used\n",
    "# when printing the output.\n",
    "labels = {\n",
    "    'phone': 'phone number',\n",
    "    'addr': 'address'\n",
    "}\n",
    "\n",
    "name = 'Beth'\n",
    "\n",
    "key = 'phone'\n",
    "\n",
    "\n",
    "# Only try to print information if the name is a valid key in\n",
    "# our dictionary:\n",
    "if name in people: print (\"%s's %s is %s and %s.\" % \\\n",
    "    (name, labels[key], people[name][key],people[name]['addr']))"
   ]
  },
  {
   "cell_type": "code",
   "execution_count": 241,
   "metadata": {
    "collapsed": false
   },
   "outputs": [
    {
     "name": "stdout",
     "output_type": "stream",
     "text": [
      "Beth's phone number is 9102.\n"
     ]
    }
   ],
   "source": [
    "# Use get to provide default values:\n",
    "person = people.get(name, {})\n",
    "label = labels.get(key, key)\n",
    "result = person.get(key, 'not available')\n",
    "\n",
    "print (\"%s's %s is %s.\" % (name, label, result))"
   ]
  },
  {
   "cell_type": "code",
   "execution_count": 242,
   "metadata": {
    "collapsed": false
   },
   "outputs": [
    {
     "name": "stdout",
     "output_type": "stream",
     "text": [
      "Hello, world!\n"
     ]
    }
   ],
   "source": [
    "def hello():\n",
    "    print (\"Hello, world!\")\n",
    "    \n",
    "hello()    "
   ]
  },
  {
   "cell_type": "code",
   "execution_count": 243,
   "metadata": {
    "collapsed": false
   },
   "outputs": [
    {
     "name": "stdout",
     "output_type": "stream",
     "text": [
      "A B C D E\n",
      "E D C B A\n"
     ]
    }
   ],
   "source": [
    "args = ['A','B','C','D','E']\n",
    "print (' '.join(args))\n",
    "args.reverse()\n",
    "print (' '.join(args))"
   ]
  },
  {
   "cell_type": "markdown",
   "metadata": {},
   "source": [
    "# Regular Expressions Examples\n",
    "\n",
    "Basic regex syntax\n",
    "\n",
    "```\n",
    ".\tNormally matches any character except a newline.  \n",
    "\n",
    "When you match a pattern within parentheses, you can use any of $1, $2, ... later to refer to the previously matched pattern.\t\n",
    "\n",
    "+\tMatches the preceding pattern element one or more times.  \t\n",
    "?\tMatches the preceding pattern element zero or one times.  \t\n",
    "*\tMatches the preceding pattern element zero or more times.  \n",
    "|\tSeparates alternate possibilities.\t \n",
    "\n",
    "\\w\tMatches an alphanumeric character, including \"_\";  same as [A-Za-z0-9_] in ASCII, and\n",
    "[\\p{Alphabetic}\\p{GC=Mark}\\p{GC=Decimal_Number}\\p{GC=Connector_Punctuation}]  \n",
    "\n",
    "\\W\tMatches a non-alphanumeric character, excluding \"_\";\n",
    "same as [^A-Za-z0-9_] in ASCII, and\n",
    "[^\\p{Alphabetic}\\p{GC=Mark}\\p{GC=Decimal_Number}\\p{GC=Connector_Punctuation}]  \n",
    "\n",
    "\\s\tMatches a whitespace character,\n",
    "which in ASCII are tab, line feed, form feed, carriage return, and space;  \n",
    "\n",
    "\\S\tMatches anything BUT a whitespace.\t \n",
    "\n",
    "\\d\tMatches a digit;\n",
    "same as [0-9] in ASCII;  \n",
    "\n",
    "\\D\tMatches a non-digit;\n",
    "\n",
    "^\tMatches the beginning of a line or string.\t  \n",
    "\n",
    "$\tMatches the end of a line or string.\t  \n",
    "```\n",
    "\n",
    "Some simple regex examples \n",
    "\n",
    "```\n",
    " {^[-+]?[0-9]*\\.?[0-9]+([eE][-+]?[0-9]+)?$}  # Floating Point Number\n",
    "\n",
    "{^[A-Za-z]+$}   # Only letters.\n",
    "\n",
    " {^[[:alpha?:]]+$} # Only letters, the Unicode way.\n",
    "\n",
    " {(.)\\1{3}} $string {\\1} result # Back References \n",
    "\n",
    "(\\[0-9]{1,3})\\.(\\[0-9]{1,3})\\.(\\[0-9]{1,3})\\.(\\[0-9]{1,3}) # IP Numbers \n",
    "```\n",
    "\n"
   ]
  },
  {
   "cell_type": "code",
   "execution_count": 244,
   "metadata": {
    "collapsed": false
   },
   "outputs": [
    {
     "name": "stdout",
     "output_type": "stream",
     "text": [
      "['You have brains in your head.', 'You have feet in your shoes.', 'You can steer yourself any direction you choose.', \"You're on your own.\", 'And you know what you know.', \"And YOU are the one who'll decide where to go...\", '- Dr. Seuss']\n",
      "You have brains in your head.\n",
      "You have feet in your shoes.\n",
      "You can steer yourself any direction you choose.\n",
      "You're on your own.\n",
      "And you know what you know.\n",
      "And YOU are the one who'll decide where to go...\n",
      "- Dr. Seuss\n"
     ]
    }
   ],
   "source": [
    "seuss = [\"You have brains in your head.\",\n",
    "           \"You have feet in your shoes.\", \n",
    "           \"You can steer yourself any direction you choose.\",            \n",
    "           \"You're on your own.\", \n",
    "           \"And you know what you know.\", \n",
    "           \"And YOU are the one who'll decide where to go...\",            \n",
    "           \"- Dr. Seuss\"]\n",
    "\n",
    "print (seuss)\n",
    "seuss_txt='\\n'.join(seuss)\n",
    "print (seuss_txt)"
   ]
  },
  {
   "cell_type": "code",
   "execution_count": 245,
   "metadata": {
    "collapsed": false
   },
   "outputs": [
    {
     "name": "stdout",
     "output_type": "stream",
     "text": [
      "You have brains in your head.\n",
      "You\n",
      "You have feet in your shoes.\n",
      "You\n",
      "You can steer yourself any direction you choose.\n",
      "You\n",
      "You're on your own.\n",
      "You\n"
     ]
    }
   ],
   "source": [
    "import re\n",
    "pat = re.compile('(You)')\n",
    "for line in seuss:\n",
    "    m = pat.search(line)\n",
    "    if m:\n",
    "        print (line)\n",
    "        print (m.group(1))"
   ]
  },
  {
   "cell_type": "code",
   "execution_count": 246,
   "metadata": {
    "collapsed": false
   },
   "outputs": [
    {
     "name": "stdout",
     "output_type": "stream",
     "text": [
      "You have brains in your head.\n",
      "('You',)\n",
      "You have feet in your shoes.\n",
      "('You',)\n",
      "You can steer yourself any direction you choose.\n",
      "('You',)\n",
      "You're on your own.\n",
      "('You',)\n",
      "And you know what you know.\n",
      "('you',)\n",
      "And YOU are the one who'll decide where to go...\n",
      "('YOU',)\n"
     ]
    }
   ],
   "source": [
    "pat = re.compile('(you)', re.IGNORECASE)\n",
    "for line in seuss:\n",
    "    m = pat.search(line)\n",
    "    if m:\n",
    "        print (line)\n",
    "        print (m.groups())"
   ]
  },
  {
   "cell_type": "code",
   "execution_count": 247,
   "metadata": {
    "collapsed": false
   },
   "outputs": [
    {
     "name": "stdout",
     "output_type": "stream",
     "text": [
      "['You', 'have', 'brains', 'in', 'your', 'head.']\n",
      "['You', 'have', 'feet', 'in', 'your', 'shoes.']\n",
      "['You', 'can', 'steer', 'yourself', 'any', 'direction', 'you', 'choose.']\n",
      "[\"You're\", 'on', 'your', 'own.']\n",
      "['And', 'you', 'know', 'what', 'you', 'know.']\n",
      "['And', 'YOU', 'are', 'the', 'one', \"who'll\", 'decide', 'where', 'to', 'go...']\n",
      "['-', 'Dr.', 'Seuss']\n"
     ]
    }
   ],
   "source": [
    "pat = re.compile('[ ]+')\n",
    "for line in seuss:\n",
    "    t = pat.split(line)\n",
    "    print (t)"
   ]
  },
  {
   "cell_type": "code",
   "execution_count": 248,
   "metadata": {
    "collapsed": false
   },
   "outputs": [
    {
     "name": "stdout",
     "output_type": "stream",
     "text": [
      "You have brains in your head.\n",
      "You have brains in your head\n",
      "['You', 'have', 'brains', 'in', 'your', 'head.']\n",
      "['You', 'have', 'brains', 'in', 'your', 'head']\n",
      "You have feet in your shoes.\n",
      "You have feet in your shoes\n",
      "['You', 'have', 'feet', 'in', 'your', 'shoes.']\n",
      "['You', 'have', 'feet', 'in', 'your', 'shoes']\n",
      "You can steer yourself any direction you choose.\n",
      "You can steer yourself any direction you choose\n",
      "['You', 'can', 'steer', 'yourself', 'any', 'direction', 'you', 'choose.']\n",
      "['You', 'can', 'steer', 'yourself', 'any', 'direction', 'you', 'choose']\n",
      "You're on your own.\n",
      "You're on your own\n",
      "[\"You're\", 'on', 'your', 'own.']\n",
      "[\"You're\", 'on', 'your', 'own']\n",
      "And you know what you know.\n",
      "And you know what you know\n",
      "['And', 'you', 'know', 'what', 'you', 'know.']\n",
      "['And', 'you', 'know', 'what', 'you', 'know']\n",
      "And YOU are the one who'll decide where to go...\n",
      "And YOU are the one who'll decide where to go\n",
      "['And', 'YOU', 'are', 'the', 'one', \"who'll\", 'decide', 'where', 'to', 'go...']\n",
      "['And', 'YOU', 'are', 'the', 'one', \"who'll\", 'decide', 'where', 'to', 'go']\n",
      "- Dr. Seuss\n",
      "- Dr Seuss\n",
      "['-', 'Dr.', 'Seuss']\n",
      "['-', 'Dr', 'Seuss']\n"
     ]
    }
   ],
   "source": [
    "pat = re.compile('[ ]+')\n",
    "for line in seuss:\n",
    "    print (line)   \n",
    "    replaced = re.sub('[\\.\\?]', '', line)\n",
    "    print (replaced)        \n",
    "    t = pat.split(line)\n",
    "    print (t)\n",
    "    r = pat.split(replaced)\n",
    "    print (r)    "
   ]
  },
  {
   "cell_type": "code",
   "execution_count": 249,
   "metadata": {
    "collapsed": false
   },
   "outputs": [
    {
     "name": "stdout",
     "output_type": "stream",
     "text": [
      "Wordcount: 43\n"
     ]
    },
    {
     "data": {
      "text/plain": [
       "['You',\n",
       " 'have',\n",
       " 'brains',\n",
       " 'in',\n",
       " 'your',\n",
       " 'head.',\n",
       " 'You',\n",
       " 'have',\n",
       " 'feet',\n",
       " 'in',\n",
       " 'your',\n",
       " 'shoes.',\n",
       " 'You',\n",
       " 'can',\n",
       " 'steer',\n",
       " 'yourself',\n",
       " 'any',\n",
       " 'direction',\n",
       " 'you',\n",
       " 'choose.',\n",
       " \"You're\",\n",
       " 'on',\n",
       " 'your',\n",
       " 'own.',\n",
       " 'And',\n",
       " 'you',\n",
       " 'know',\n",
       " 'what',\n",
       " 'you',\n",
       " 'know.',\n",
       " 'And',\n",
       " 'YOU',\n",
       " 'are',\n",
       " 'the',\n",
       " 'one',\n",
       " \"who'll\",\n",
       " 'decide',\n",
       " 'where',\n",
       " 'to',\n",
       " 'go...',\n",
       " '-',\n",
       " 'Dr.',\n",
       " 'Seuss']"
      ]
     },
     "execution_count": 249,
     "metadata": {},
     "output_type": "execute_result"
    }
   ],
   "source": [
    "words = seuss_txt.split()\n",
    "wordcount = len(words)\n",
    "print ('Wordcount:', wordcount)\n",
    "words"
   ]
  },
  {
   "cell_type": "code",
   "execution_count": 250,
   "metadata": {
    "collapsed": false
   },
   "outputs": [
    {
     "data": {
      "image/png": "[encoded data removed]",
      "text/plain": [
       "<matplotlib.figure.Figure at 0x113936390>"
      ]
     },
     "metadata": {},
     "output_type": "display_data"
    }
   ],
   "source": [
    "# Plot two normal distributions\n",
    "domain = np.arange(-20, 20, 0.1)\n",
    "values = stats.norm(3, 5).pdf(domain)\n",
    "plt.plot(domain, values, color='r', linewidth=2)\n",
    "plt.fill_between(domain, 0, values, color='r', alpha=0.3)\n",
    "values = stats.norm(4, 2).pdf(domain)\n",
    "plt.plot(domain, values, color='b', linewidth=2)\n",
    "plt.ylabel(\"Probability\")\n",
    "plt.title(\"Two Normal Distributions\")\n",
    "plt.show()"
   ]
  },
  {
   "cell_type": "code",
   "execution_count": null,
   "metadata": {
    "collapsed": false
   },
   "outputs": [],
   "source": []
  },
  {
   "cell_type": "code",
   "execution_count": 251,
   "metadata": {
    "collapsed": false
   },
   "outputs": [
    {
     "data": {
      "text/html": [
       "<div>\n",
       "<table border=\"1\" class=\"dataframe\">\n",
       "  <thead>\n",
       "    <tr style=\"text-align: right;\">\n",
       "      <th></th>\n",
       "      <th>sepal_length</th>\n",
       "      <th>sepal_width</th>\n",
       "      <th>petal_length</th>\n",
       "      <th>petal_width</th>\n",
       "      <th>species</th>\n",
       "    </tr>\n",
       "  </thead>\n",
       "  <tbody>\n",
       "    <tr>\n",
       "      <th>0</th>\n",
       "      <td>5.1</td>\n",
       "      <td>3.5</td>\n",
       "      <td>1.4</td>\n",
       "      <td>0.2</td>\n",
       "      <td>setosa</td>\n",
       "    </tr>\n",
       "    <tr>\n",
       "      <th>1</th>\n",
       "      <td>4.9</td>\n",
       "      <td>3.0</td>\n",
       "      <td>1.4</td>\n",
       "      <td>0.2</td>\n",
       "      <td>setosa</td>\n",
       "    </tr>\n",
       "    <tr>\n",
       "      <th>2</th>\n",
       "      <td>4.7</td>\n",
       "      <td>3.2</td>\n",
       "      <td>1.3</td>\n",
       "      <td>0.2</td>\n",
       "      <td>setosa</td>\n",
       "    </tr>\n",
       "    <tr>\n",
       "      <th>3</th>\n",
       "      <td>4.6</td>\n",
       "      <td>3.1</td>\n",
       "      <td>1.5</td>\n",
       "      <td>0.2</td>\n",
       "      <td>setosa</td>\n",
       "    </tr>\n",
       "    <tr>\n",
       "      <th>4</th>\n",
       "      <td>5.0</td>\n",
       "      <td>3.6</td>\n",
       "      <td>1.4</td>\n",
       "      <td>0.2</td>\n",
       "      <td>setosa</td>\n",
       "    </tr>\n",
       "  </tbody>\n",
       "</table>\n",
       "</div>"
      ],
      "text/plain": [
       "   sepal_length  sepal_width  petal_length  petal_width species\n",
       "0           5.1          3.5           1.4          0.2  setosa\n",
       "1           4.9          3.0           1.4          0.2  setosa\n",
       "2           4.7          3.2           1.3          0.2  setosa\n",
       "3           4.6          3.1           1.5          0.2  setosa\n",
       "4           5.0          3.6           1.4          0.2  setosa"
      ]
     },
     "execution_count": 251,
     "metadata": {},
     "output_type": "execute_result"
    }
   ],
   "source": [
    "iris = sns.load_dataset(\"iris\")\n",
    "iris.head()"
   ]
  },
  {
   "cell_type": "code",
   "execution_count": 257,
   "metadata": {
    "collapsed": false
   },
   "outputs": [
    {
     "name": "stdout",
     "output_type": "stream",
     "text": [
      "sepal_length\n",
      "sepal_width\n",
      "petal_length\n",
      "petal_width\n",
      "species\n"
     ]
    }
   ],
   "source": [
    "for x in iris.columns.values:\n",
    "    print (x)"
   ]
  },
  {
   "cell_type": "code",
   "execution_count": 261,
   "metadata": {
    "collapsed": false
   },
   "outputs": [
    {
     "data": {
      "text/html": [
       "<div>\n",
       "<table border=\"1\" class=\"dataframe\">\n",
       "  <thead>\n",
       "    <tr style=\"text-align: right;\">\n",
       "      <th></th>\n",
       "      <th>Ozone</th>\n",
       "      <th>Solar.R</th>\n",
       "      <th>Wind</th>\n",
       "      <th>Temp</th>\n",
       "      <th>Month</th>\n",
       "      <th>Day</th>\n",
       "    </tr>\n",
       "  </thead>\n",
       "  <tbody>\n",
       "    <tr>\n",
       "      <th>0</th>\n",
       "      <td>41.0</td>\n",
       "      <td>190.0</td>\n",
       "      <td>7.4</td>\n",
       "      <td>67</td>\n",
       "      <td>5</td>\n",
       "      <td>1</td>\n",
       "    </tr>\n",
       "    <tr>\n",
       "      <th>1</th>\n",
       "      <td>36.0</td>\n",
       "      <td>118.0</td>\n",
       "      <td>8.0</td>\n",
       "      <td>72</td>\n",
       "      <td>5</td>\n",
       "      <td>2</td>\n",
       "    </tr>\n",
       "    <tr>\n",
       "      <th>2</th>\n",
       "      <td>12.0</td>\n",
       "      <td>149.0</td>\n",
       "      <td>12.6</td>\n",
       "      <td>74</td>\n",
       "      <td>5</td>\n",
       "      <td>3</td>\n",
       "    </tr>\n",
       "    <tr>\n",
       "      <th>3</th>\n",
       "      <td>18.0</td>\n",
       "      <td>313.0</td>\n",
       "      <td>11.5</td>\n",
       "      <td>62</td>\n",
       "      <td>5</td>\n",
       "      <td>4</td>\n",
       "    </tr>\n",
       "    <tr>\n",
       "      <th>4</th>\n",
       "      <td>NaN</td>\n",
       "      <td>NaN</td>\n",
       "      <td>14.3</td>\n",
       "      <td>56</td>\n",
       "      <td>5</td>\n",
       "      <td>5</td>\n",
       "    </tr>\n",
       "  </tbody>\n",
       "</table>\n",
       "</div>"
      ],
      "text/plain": [
       "   Ozone  Solar.R  Wind  Temp  Month  Day\n",
       "0   41.0    190.0   7.4    67      5    1\n",
       "1   36.0    118.0   8.0    72      5    2\n",
       "2   12.0    149.0  12.6    74      5    3\n",
       "3   18.0    313.0  11.5    62      5    4\n",
       "4    NaN      NaN  14.3    56      5    5"
      ]
     },
     "execution_count": 261,
     "metadata": {},
     "output_type": "execute_result"
    }
   ],
   "source": [
    "ozone = data = pd.read_csv('https://raw.githubusercontent.com/datadave/data-science-course/master/lessons/lesson04_pandas/data/ozone.csv')\n",
    "ozone.head()"
   ]
  },
  {
   "cell_type": "code",
   "execution_count": 271,
   "metadata": {
    "collapsed": false
   },
   "outputs": [
    {
     "name": "stdout",
     "output_type": "stream",
     "text": [
      "(153, 6)\n",
      "153\n",
      "116\n",
      "4887.0\n",
      "37\n",
      "37\n"
     ]
    }
   ],
   "source": [
    "print (ozone.shape)\n",
    "print (len(ozone))\n",
    "print (len(ozone['Ozone'].dropna()))\n",
    "print (ozone['Ozone'].sum())\n",
    "print (ozone['Ozone'].isnull().sum())"
   ]
  },
  {
   "cell_type": "code",
   "execution_count": 272,
   "metadata": {
    "collapsed": false
   },
   "outputs": [
    {
     "name": "stdout",
     "output_type": "stream",
     "text": [
      "    Ozone  Solar.R  Wind  Temp  Month  Day\n",
      "55    NaN    135.0   8.0    75      6   25\n",
      "56    NaN    127.0   8.0    78      6   26\n",
      "57    NaN     47.0  10.3    73      6   27\n",
      "58    NaN     98.0  11.5    80      6   28\n",
      "59    NaN     31.0  14.9    77      6   29\n"
     ]
    }
   ],
   "source": [
    "print (ozone.ix[55:59,])"
   ]
  },
  {
   "cell_type": "code",
   "execution_count": 273,
   "metadata": {
    "collapsed": false
   },
   "outputs": [
    {
     "data": {
      "text/html": [
       "<div>\n",
       "<table border=\"1\" class=\"dataframe\">\n",
       "  <thead>\n",
       "    <tr style=\"text-align: right;\">\n",
       "      <th></th>\n",
       "      <th>Ozone</th>\n",
       "      <th>Solar.R</th>\n",
       "      <th>Wind</th>\n",
       "      <th>Temp</th>\n",
       "      <th>Month</th>\n",
       "      <th>Day</th>\n",
       "    </tr>\n",
       "  </thead>\n",
       "  <tbody>\n",
       "    <tr>\n",
       "      <th>68</th>\n",
       "      <td>97.0</td>\n",
       "      <td>267.0</td>\n",
       "      <td>6.3</td>\n",
       "      <td>92</td>\n",
       "      <td>7</td>\n",
       "      <td>8</td>\n",
       "    </tr>\n",
       "    <tr>\n",
       "      <th>69</th>\n",
       "      <td>97.0</td>\n",
       "      <td>272.0</td>\n",
       "      <td>5.7</td>\n",
       "      <td>92</td>\n",
       "      <td>7</td>\n",
       "      <td>9</td>\n",
       "    </tr>\n",
       "    <tr>\n",
       "      <th>119</th>\n",
       "      <td>76.0</td>\n",
       "      <td>203.0</td>\n",
       "      <td>9.7</td>\n",
       "      <td>97</td>\n",
       "      <td>8</td>\n",
       "      <td>28</td>\n",
       "    </tr>\n",
       "    <tr>\n",
       "      <th>120</th>\n",
       "      <td>118.0</td>\n",
       "      <td>225.0</td>\n",
       "      <td>2.3</td>\n",
       "      <td>94</td>\n",
       "      <td>8</td>\n",
       "      <td>29</td>\n",
       "    </tr>\n",
       "    <tr>\n",
       "      <th>121</th>\n",
       "      <td>84.0</td>\n",
       "      <td>237.0</td>\n",
       "      <td>6.3</td>\n",
       "      <td>96</td>\n",
       "      <td>8</td>\n",
       "      <td>30</td>\n",
       "    </tr>\n",
       "  </tbody>\n",
       "</table>\n",
       "</div>"
      ],
      "text/plain": [
       "     Ozone  Solar.R  Wind  Temp  Month  Day\n",
       "68    97.0    267.0   6.3    92      7    8\n",
       "69    97.0    272.0   5.7    92      7    9\n",
       "119   76.0    203.0   9.7    97      8   28\n",
       "120  118.0    225.0   2.3    94      8   29\n",
       "121   84.0    237.0   6.3    96      8   30"
      ]
     },
     "execution_count": 273,
     "metadata": {},
     "output_type": "execute_result"
    }
   ],
   "source": [
    "ozone[(ozone.Ozone > 31) & (ozone.Temp > 90)].head()"
   ]
  },
  {
   "cell_type": "code",
   "execution_count": 252,
   "metadata": {
    "collapsed": false
   },
   "outputs": [
    {
     "data": {
      "text/plain": [
       "<seaborn.axisgrid.PairGrid at 0x1109ff3c8>"
      ]
     },
     "execution_count": 252,
     "metadata": {},
     "output_type": "execute_result"
    },
    {
     "data": {
      "image/png": "[encoded data removed]",
      "text/plain": [
       "<matplotlib.figure.Figure at 0x110967470>"
      ]
     },
     "metadata": {},
     "output_type": "display_data"
    }
   ],
   "source": [
    "sns.pairplot(iris, hue=\"species\")"
   ]
  },
  {
   "cell_type": "code",
   "execution_count": 253,
   "metadata": {
    "collapsed": false
   },
   "outputs": [
    {
     "data": {
      "text/html": [
       "<div>\n",
       "<table border=\"1\" class=\"dataframe\">\n",
       "  <thead>\n",
       "    <tr style=\"text-align: right;\">\n",
       "      <th></th>\n",
       "      <th>Mean</th>\n",
       "      <th>Std</th>\n",
       "    </tr>\n",
       "  </thead>\n",
       "  <tbody>\n",
       "    <tr>\n",
       "      <th>0</th>\n",
       "      <td>3.804768</td>\n",
       "      <td>4.803514</td>\n",
       "    </tr>\n",
       "    <tr>\n",
       "      <th>1</th>\n",
       "      <td>13.656099</td>\n",
       "      <td>5.529052</td>\n",
       "    </tr>\n",
       "    <tr>\n",
       "      <th>2</th>\n",
       "      <td>17.868431</td>\n",
       "      <td>5.470727</td>\n",
       "    </tr>\n",
       "    <tr>\n",
       "      <th>3</th>\n",
       "      <td>6.864016</td>\n",
       "      <td>5.573080</td>\n",
       "    </tr>\n",
       "    <tr>\n",
       "      <th>4</th>\n",
       "      <td>11.841095</td>\n",
       "      <td>7.063196</td>\n",
       "    </tr>\n",
       "  </tbody>\n",
       "</table>\n",
       "</div>"
      ],
      "text/plain": [
       "        Mean       Std\n",
       "0   3.804768  4.803514\n",
       "1  13.656099  5.529052\n",
       "2  17.868431  5.470727\n",
       "3   6.864016  5.573080\n",
       "4  11.841095  7.063196"
      ]
     },
     "execution_count": 253,
     "metadata": {},
     "output_type": "execute_result"
    }
   ],
   "source": [
    "import random\n",
    "data = []\n",
    "for i in range(50):\n",
    "    m = random.randint(5 + i, 15 + i)\n",
    "    s = random.randint(4, 8)\n",
    "    dist = stats.norm(m, s)\n",
    "    draws = dist.rvs(30)\n",
    "    data.append([np.mean(draws), np.std(draws)])\n",
    "df = pd.DataFrame(data, columns=[\"Mean\", \"Std\"])\n",
    "df.head()"
   ]
  },
  {
   "cell_type": "code",
   "execution_count": 254,
   "metadata": {
    "collapsed": false
   },
   "outputs": [
    {
     "data": {
      "text/plain": [
       "<matplotlib.text.Text at 0x113c3a668>"
      ]
     },
     "execution_count": 254,
     "metadata": {},
     "output_type": "execute_result"
    },
    {
     "data": {
      "image/png": "[encoded data removed]",
      "text/plain": [
       "<matplotlib.figure.Figure at 0x110dd1c88>"
      ]
     },
     "metadata": {},
     "output_type": "display_data"
    }
   ],
   "source": [
    "plt.errorbar(range(len(df)), df[\"Mean\"], yerr=df[\"Std\"])\n",
    "plt.title(\"Error Bar Example\")"
   ]
  },
  {
   "cell_type": "code",
   "execution_count": 255,
   "metadata": {
    "collapsed": false
   },
   "outputs": [
    {
     "data": {
      "text/plain": [
       "<matplotlib.text.Text at 0x113cc6c50>"
      ]
     },
     "execution_count": 255,
     "metadata": {},
     "output_type": "execute_result"
    },
    {
     "data": {
      "image/png": "[encoded data removed]",
      "text/plain": [
       "<matplotlib.figure.Figure at 0x113cae0b8>"
      ]
     },
     "metadata": {},
     "output_type": "display_data"
    }
   ],
   "source": [
    "plt.errorbar(range(len(df)), df[\"Mean\"])\n",
    "lower = df[\"Mean\"] - df[\"Std\"]\n",
    "upper = df[\"Mean\"] + df[\"Std\"]\n",
    "plt.fill_between(range(len(df)), lower, upper, alpha=0.5)\n",
    "plt.title(\"CI Example\")"
   ]
  },
  {
   "cell_type": "code",
   "execution_count": null,
   "metadata": {
    "collapsed": true
   },
   "outputs": [],
   "source": [
    "A = 10/20\n",
    "print(A)"
   ]
  },
  {
   "cell_type": "code",
   "execution_count": null,
   "metadata": {
    "collapsed": true
   },
   "outputs": [],
   "source": [
    "A = 10.0/20\n",
    "print(A)"
   ]
  },
  {
   "cell_type": "code",
   "execution_count": null,
   "metadata": {
    "collapsed": true
   },
   "outputs": [],
   "source": [
    "def division(numerator, denominator):\n",
    "    result = float(numerator) / denominator\n",
    "    print(result)\n",
    "division(20, 10)\n",
    "division(10, 20)"
   ]
  },
  {
   "cell_type": "code",
   "execution_count": null,
   "metadata": {
    "collapsed": true
   },
   "outputs": [],
   "source": [
    "my_string = \"the cow jumped over the moon\"\n",
    "words = my_string.split()\n",
    "# returns ['the', 'cow', 'jumped', 'over', 'the', 'moon']\n",
    "print(words)"
   ]
  },
  {
   "cell_type": "code",
   "execution_count": null,
   "metadata": {
    "collapsed": true
   },
   "outputs": [],
   "source": [
    "length_of_each_word = [len(word) for word in words]\n",
    "print(length_of_each_word)"
   ]
  },
  {
   "cell_type": "code",
   "execution_count": null,
   "metadata": {
    "collapsed": true
   },
   "outputs": [],
   "source": [
    "sentence = \" \".join(words)\n",
    "print(sentence)"
   ]
  },
  {
   "cell_type": "code",
   "execution_count": null,
   "metadata": {
    "collapsed": true
   },
   "outputs": [],
   "source": [
    "alternate_sentence = \"||\".join(words)\n",
    "print(alternate_sentence)"
   ]
  }
 ],
 "metadata": {
  "kernelspec": {
   "display_name": "Python 3",
   "language": "python",
   "name": "python3"
  },
  "language_info": {
   "codemirror_mode": {
    "name": "ipython",
    "version": 3
   },
   "file_extension": ".py",
   "mimetype": "text/x-python",
   "name": "python",
   "nbconvert_exporter": "python",
   "pygments_lexer": "ipython3",
   "version": "3.6.0"
  }
 },
 "nbformat": 4,
 "nbformat_minor": 2
}
